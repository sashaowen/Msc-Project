{
 "cells": [
  {
   "cell_type": "code",
   "execution_count": 14,
   "id": "15b33a49-7d7c-46c4-b84e-52aa98984e09",
   "metadata": {},
   "outputs": [],
   "source": [
    "import torch\n",
    "import numpy as np\n",
    "import scipy.io\n",
    "\n",
    "\n",
    "\n",
    "import matplotlib.pyplot as plt\n",
    "from matplotlib import pyplot, cm\n",
    "\n",
    "from timeit import default_timer\n",
    "\n",
    "from utilities3 import *\n"
   ]
  },
  {
   "cell_type": "code",
   "execution_count": 15,
   "id": "3f8c9b06-4545-458c-8886-e3d1b1ddba7b",
   "metadata": {},
   "outputs": [],
   "source": [
    "reader = MatReader('df_test_128.mat')\n",
    "y_test_128 = reader.read_field('sol')\n",
    "\n",
    "reader.load_file('df_test_64.mat')\n",
    "y_test_64 = reader.read_field('sol')\n",
    "\n",
    "reader.load_file('df_devito_128.mat')\n",
    "y_devito_128 = reader.read_field('sol')\n",
    "\n",
    "reader.load_file('df_devito_64.mat')\n",
    "y_devito_64 = reader.read_field('sol')\n"
   ]
  },
  {
   "cell_type": "code",
   "execution_count": 20,
   "id": "9f826b13-58b9-4c80-bc3e-7300e4a0bf56",
   "metadata": {},
   "outputs": [
    {
     "name": "stdout",
     "output_type": "stream",
     "text": [
      "resolution: 128 Testing Loss: 0.030241080694831907\n"
     ]
    }
   ],
   "source": [
    "mytestloss = LpLoss(size_average=False)\n",
    "\n",
    "test_l2 = 0.0\n",
    "for i in range(200):\n",
    "    y1 = y_test_128[i]\n",
    "    y1 = y1.reshape(1, 128, 128)\n",
    "    y2 = y_devito_128[i]\n",
    "    y2 = y2.reshape(1, 128, 128)\n",
    "    test_l2 += mytestloss(y2, y1).item()\n",
    "\n",
    "test_l2 /= 200\n",
    "\n",
    "print(\"resolution: 128\", \"Testing Loss:\", test_l2)   \n",
    "    "
   ]
  },
  {
   "cell_type": "code",
   "execution_count": 21,
   "id": "d3984e90-ed94-45ff-9829-749453fdfa81",
   "metadata": {},
   "outputs": [
    {
     "name": "stdout",
     "output_type": "stream",
     "text": [
      "resolution: 64 Testing Loss: 0.052029834823426796\n"
     ]
    }
   ],
   "source": [
    "mytestloss = LpLoss(size_average=False)\n",
    "t1 = default_timer()\n",
    "\n",
    "for i in range(200):\n",
    "    y1 = y_test_64[i]\n",
    "    y1 = y1.reshape(1, 64, 64)\n",
    "    y2 = y_devito_64[i]\n",
    "    y2 = y2.reshape(1, 64, 64)\n",
    "    test_l2 += mytestloss(y2, y1).item()\n",
    "\n",
    "test_l2 /= 200\n",
    "\n",
    "print(\"resolution: 64\",\"Testing Loss:\", test_l2)   \n",
    "    "
   ]
  },
  {
   "cell_type": "code",
   "execution_count": null,
   "id": "d718f328-9096-499c-8fd4-d467c71acb84",
   "metadata": {},
   "outputs": [],
   "source": []
  }
 ],
 "metadata": {
  "kernelspec": {
   "display_name": "Python 3 (ipykernel)",
   "language": "python",
   "name": "python3"
  },
  "language_info": {
   "codemirror_mode": {
    "name": "ipython",
    "version": 3
   },
   "file_extension": ".py",
   "mimetype": "text/x-python",
   "name": "python",
   "nbconvert_exporter": "python",
   "pygments_lexer": "ipython3",
   "version": "3.10.4"
  }
 },
 "nbformat": 4,
 "nbformat_minor": 5
}
