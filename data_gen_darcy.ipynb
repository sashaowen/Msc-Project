{
 "cells": [
  {
   "cell_type": "code",
   "execution_count": 1,
   "id": "7e141669-9c72-4a4f-b9fc-2ad59accfbaa",
   "metadata": {},
   "outputs": [],
   "source": [
    "# Generate data for the Darcy flow problem\n",
    "# Input: a - the permeability\n",
    "# output: u - the flow through the permeability\n",
    "# data generated:\n",
    "# 1000 training pairs\n",
    "# 6 sets of 200 testing pairs, with resolutions of:\n",
    "# 256, 1024, 224, 192, 160, 128"
   ]
  },
  {
   "cell_type": "code",
   "execution_count": null,
   "id": "4a39d9b4-d539-4964-9c18-7e1a37be94a2",
   "metadata": {},
   "outputs": [],
   "source": [
    "pip install torch"
   ]
  },
  {
   "cell_type": "code",
   "execution_count": null,
   "id": "607d0767-7141-4693-9ad8-2d17d5bb3224",
   "metadata": {},
   "outputs": [],
   "source": [
    "pip install tensorflow"
   ]
  },
  {
   "cell_type": "code",
   "execution_count": null,
   "id": "c5a773a8-0fee-4954-b868-02e410a5aad0",
   "metadata": {},
   "outputs": [],
   "source": [
    "pip install --user git+https://github.com/devitocodes/devito.git"
   ]
  },
  {
   "cell_type": "code",
   "execution_count": 7,
   "id": "d6ce6e19-d050-45a7-8bb2-8eba0076713d",
   "metadata": {},
   "outputs": [
    {
     "name": "stderr",
     "output_type": "stream",
     "text": [
      "2022-07-28 08:50:55.376686: W tensorflow/stream_executor/platform/default/dso_loader.cc:64] Could not load dynamic library 'libcudart.so.11.0'; dlerror: libcudart.so.11.0: cannot open shared object file: No such file or directory\n",
      "2022-07-28 08:50:55.376741: I tensorflow/stream_executor/cuda/cudart_stub.cc:29] Ignore above cudart dlerror if you do not have a GPU set up on your machine.\n"
     ]
    }
   ],
   "source": [
    "import torch\n",
    "import math\n",
    "import devito\n",
    "\n",
    "import numpy as np\n",
    "\n",
    "from random_fields import GaussianRF\n",
    "\n",
    "from timeit import default_timer\n",
    "\n",
    "import scipy.io"
   ]
  },
  {
   "cell_type": "code",
   "execution_count": 8,
   "id": "40b09eee-abf8-4282-a48d-b6ff3dd776a5",
   "metadata": {},
   "outputs": [],
   "source": [
    "from matplotlib import pyplot, cm\n",
    "\n",
    "def plot_field(field, xmin=0., xmax=1., ymin=0., ymax=1., zmin=None, zmax=None,\n",
    "               view=None, linewidth=0):\n",
    "    \"\"\"\n",
    "    Utility plotting routine for 2D data.\n",
    "    Parameters\n",
    "    ----------\n",
    "    field : array_like\n",
    "        Field data to plot.\n",
    "    xmax : int, optional\n",
    "        Length of the x-axis.\n",
    "    ymax : int, optional\n",
    "        Length of the y-axis.\n",
    "    view: int, optional\n",
    "        View point to intialise.\n",
    "    \"\"\"\n",
    "    if xmin > xmax or ymin > ymax:\n",
    "        raise ValueError(\"Dimension min cannot be larger than dimension max.\")\n",
    "    if (zmin is not None and zmax is not None):\n",
    "        if zmin > zmax:\n",
    "            raise ValueError(\"Dimension min cannot be larger than dimension max.\")\n",
    "    elif(zmin is None and zmax is not None):\n",
    "        if np.min(field) >= zmax:\n",
    "            warning(\"zmax is less than field's minima. Figure deceptive.\")\n",
    "    elif(zmin is not None and zmax is None):\n",
    "        if np.max(field) <= zmin:\n",
    "            warning(\"zmin is larger than field's maxima. Figure deceptive.\")\n",
    "    x_coord = np.linspace(xmin, xmax, field.shape[0])\n",
    "    y_coord = np.linspace(ymin, ymax, field.shape[1])\n",
    "    fig = pyplot.figure(figsize=(11, 7), dpi=100)\n",
    "    ax = fig.gca(projection='3d')\n",
    "    X, Y = np.meshgrid(x_coord, y_coord, indexing='ij')\n",
    "    ax.plot_surface(X, Y, field[:], cmap=cm.viridis, rstride=1, cstride=1,\n",
    "                    linewidth=linewidth, antialiased=False)\n",
    "\n",
    "    # Enforce axis measures and set view if given\n",
    "    ax.set_xlim(xmin, xmax)\n",
    "    ax.set_ylim(ymin, ymax)\n",
    "    if zmin is None:\n",
    "        zmin = np.min(field)\n",
    "    if zmax is None:\n",
    "        zmax = np.max(field)\n",
    "    ax.set_zlim(zmin, zmax)\n",
    "\n",
    "    if view is not None:\n",
    "        ax.view_init(*view)\n",
    "\n",
    "    # Label axis\n",
    "    ax.set_xlabel('$x$')\n",
    "    ax.set_ylabel('$y$')\n",
    "\n",
    "    pyplot.show()"
   ]
  },
  {
   "cell_type": "code",
   "execution_count": 12,
   "id": "a44a85ce-7c81-4a4c-9e01-c60d7223f8ab",
   "metadata": {},
   "outputs": [],
   "source": [
    "\n",
    "'''\n",
    "function to generate 'u' from 'a' using Devito\n",
    "parameters \n",
    "-----------------\n",
    "perm: tensor of size (1, s, s)\n",
    "    this is \"a\"\n",
    "f: tensor of size (s, s)\n",
    "    the forcing function f(x) = 1\n",
    "s: int\n",
    "    the resolution\n",
    " '''\n",
    "\n",
    "def darcy_flow_2d(perm, f, s):\n",
    "    \n",
    "    # a(x) is the coefficients\n",
    "    # f is the forcing function\n",
    "    # give the a and f1 functions the same data as inputs perm and f\n",
    "    for i in range(s):\n",
    "        f1.data[i] = f[i]\n",
    "        a.data[i] = perm[0][i]\n",
    "    \n",
    "    # call operator for the 1000th psuedo-timestep\n",
    "    op(time=1000)\n",
    "    #plot_field(u.data[0])\n",
    "    #plot_field(a.data)\n",
    "    #print(u.data[0])\n",
    "   \n",
    "    \n",
    "    return torch. from_numpy(u.data[0])"
   ]
  },
  {
   "cell_type": "code",
   "execution_count": null,
   "id": "25b47db5-56aa-45da-a96b-bbc3a81630d2",
   "metadata": {
    "tags": []
   },
   "outputs": [
    {
     "name": "stderr",
     "output_type": "stream",
     "text": [
      "Equation is not affine w.r.t the target, falling back to standardsympy.solve that may be slow\n",
      "Operator `Kernel` ran in 1.72 s\n"
     ]
    },
    {
     "name": "stdout",
     "output_type": "stream",
     "text": [
      "sample no. : 1 Time taken: 39.03131002606824\n"
     ]
    },
    {
     "name": "stderr",
     "output_type": "stream",
     "text": [
      "Operator `Kernel` ran in 1.69 s\n"
     ]
    },
    {
     "name": "stdout",
     "output_type": "stream",
     "text": [
      "sample no. : 2 Time taken: 77.4026481313631\n"
     ]
    },
    {
     "name": "stderr",
     "output_type": "stream",
     "text": [
      "Operator `Kernel` ran in 1.68 s\n"
     ]
    },
    {
     "name": "stdout",
     "output_type": "stream",
     "text": [
      "sample no. : 3 Time taken: 116.50049471203238\n"
     ]
    },
    {
     "name": "stderr",
     "output_type": "stream",
     "text": [
      "Operator `Kernel` ran in 1.68 s\n"
     ]
    },
    {
     "name": "stdout",
     "output_type": "stream",
     "text": [
      "sample no. : 4 Time taken: 155.00545663107187\n"
     ]
    },
    {
     "name": "stderr",
     "output_type": "stream",
     "text": [
      "Operator `Kernel` ran in 1.69 s\n"
     ]
    },
    {
     "name": "stdout",
     "output_type": "stream",
     "text": [
      "sample no. : 5 Time taken: 193.10261168936267\n"
     ]
    },
    {
     "name": "stderr",
     "output_type": "stream",
     "text": [
      "Operator `Kernel` ran in 1.70 s\n"
     ]
    },
    {
     "name": "stdout",
     "output_type": "stream",
     "text": [
      "sample no. : 6 Time taken: 231.47529656020924\n"
     ]
    },
    {
     "name": "stderr",
     "output_type": "stream",
     "text": [
      "Operator `Kernel` ran in 1.70 s\n"
     ]
    },
    {
     "name": "stdout",
     "output_type": "stream",
     "text": [
      "sample no. : 7 Time taken: 269.6715667392127\n"
     ]
    },
    {
     "name": "stderr",
     "output_type": "stream",
     "text": [
      "Operator `Kernel` ran in 1.68 s\n"
     ]
    },
    {
     "name": "stdout",
     "output_type": "stream",
     "text": [
      "sample no. : 8 Time taken: 307.67602842208\n"
     ]
    },
    {
     "name": "stderr",
     "output_type": "stream",
     "text": [
      "Operator `Kernel` ran in 1.68 s\n"
     ]
    },
    {
     "name": "stdout",
     "output_type": "stream",
     "text": [
      "sample no. : 9 Time taken: 345.84813011297956\n"
     ]
    },
    {
     "name": "stderr",
     "output_type": "stream",
     "text": [
      "Operator `Kernel` ran in 1.68 s\n"
     ]
    },
    {
     "name": "stdout",
     "output_type": "stream",
     "text": [
      "sample no. : 10 Time taken: 383.80614572623745\n"
     ]
    },
    {
     "name": "stderr",
     "output_type": "stream",
     "text": [
      "Operator `Kernel` ran in 1.69 s\n"
     ]
    },
    {
     "name": "stdout",
     "output_type": "stream",
     "text": [
      "sample no. : 11 Time taken: 421.9829726703465\n"
     ]
    },
    {
     "name": "stderr",
     "output_type": "stream",
     "text": [
      "Operator `Kernel` ran in 1.69 s\n"
     ]
    },
    {
     "name": "stdout",
     "output_type": "stream",
     "text": [
      "sample no. : 12 Time taken: 460.533449918963\n"
     ]
    },
    {
     "name": "stderr",
     "output_type": "stream",
     "text": [
      "Operator `Kernel` ran in 1.69 s\n"
     ]
    },
    {
     "name": "stdout",
     "output_type": "stream",
     "text": [
      "sample no. : 13 Time taken: 499.14624441135675\n"
     ]
    },
    {
     "name": "stderr",
     "output_type": "stream",
     "text": [
      "Operator `Kernel` ran in 1.68 s\n"
     ]
    },
    {
     "name": "stdout",
     "output_type": "stream",
     "text": [
      "sample no. : 14 Time taken: 537.4606256280094\n"
     ]
    },
    {
     "name": "stderr",
     "output_type": "stream",
     "text": [
      "Operator `Kernel` ran in 1.69 s\n"
     ]
    },
    {
     "name": "stdout",
     "output_type": "stream",
     "text": [
      "sample no. : 15 Time taken: 576.0027852840722\n"
     ]
    },
    {
     "name": "stderr",
     "output_type": "stream",
     "text": [
      "Operator `Kernel` ran in 1.69 s\n"
     ]
    },
    {
     "name": "stdout",
     "output_type": "stream",
     "text": [
      "sample no. : 16 Time taken: 614.0075502311811\n"
     ]
    },
    {
     "name": "stderr",
     "output_type": "stream",
     "text": [
      "Operator `Kernel` ran in 1.70 s\n"
     ]
    },
    {
     "name": "stdout",
     "output_type": "stream",
     "text": [
      "sample no. : 17 Time taken: 652.2834194209427\n"
     ]
    },
    {
     "name": "stderr",
     "output_type": "stream",
     "text": [
      "Operator `Kernel` ran in 1.70 s\n"
     ]
    },
    {
     "name": "stdout",
     "output_type": "stream",
     "text": [
      "sample no. : 18 Time taken: 690.5907491701655\n"
     ]
    },
    {
     "name": "stderr",
     "output_type": "stream",
     "text": [
      "Operator `Kernel` ran in 1.69 s\n"
     ]
    },
    {
     "name": "stdout",
     "output_type": "stream",
     "text": [
      "sample no. : 19 Time taken: 728.646218849346\n"
     ]
    },
    {
     "name": "stderr",
     "output_type": "stream",
     "text": [
      "Operator `Kernel` ran in 1.69 s\n"
     ]
    },
    {
     "name": "stdout",
     "output_type": "stream",
     "text": [
      "sample no. : 20 Time taken: 766.9128854591399\n"
     ]
    },
    {
     "name": "stderr",
     "output_type": "stream",
     "text": [
      "Operator `Kernel` ran in 1.69 s\n"
     ]
    },
    {
     "name": "stdout",
     "output_type": "stream",
     "text": [
      "sample no. : 21 Time taken: 805.3661732152104\n"
     ]
    },
    {
     "name": "stderr",
     "output_type": "stream",
     "text": [
      "Operator `Kernel` ran in 1.69 s\n"
     ]
    },
    {
     "name": "stdout",
     "output_type": "stream",
     "text": [
      "sample no. : 22 Time taken: 845.3626069701277\n"
     ]
    },
    {
     "name": "stderr",
     "output_type": "stream",
     "text": [
      "Operator `Kernel` ran in 1.70 s\n"
     ]
    },
    {
     "name": "stdout",
     "output_type": "stream",
     "text": [
      "sample no. : 23 Time taken: 883.7290810863487\n"
     ]
    },
    {
     "name": "stderr",
     "output_type": "stream",
     "text": [
      "Operator `Kernel` ran in 1.68 s\n"
     ]
    },
    {
     "name": "stdout",
     "output_type": "stream",
     "text": [
      "sample no. : 24 Time taken: 921.6936523420736\n"
     ]
    },
    {
     "name": "stderr",
     "output_type": "stream",
     "text": [
      "Operator `Kernel` ran in 1.69 s\n"
     ]
    },
    {
     "name": "stdout",
     "output_type": "stream",
     "text": [
      "sample no. : 25 Time taken: 959.9475090433843\n"
     ]
    },
    {
     "name": "stderr",
     "output_type": "stream",
     "text": [
      "Operator `Kernel` ran in 1.71 s\n"
     ]
    },
    {
     "name": "stdout",
     "output_type": "stream",
     "text": [
      "sample no. : 26 Time taken: 998.2400997923687\n"
     ]
    },
    {
     "name": "stderr",
     "output_type": "stream",
     "text": [
      "Operator `Kernel` ran in 1.68 s\n"
     ]
    },
    {
     "name": "stdout",
     "output_type": "stream",
     "text": [
      "sample no. : 27 Time taken: 1036.4019596530125\n"
     ]
    },
    {
     "name": "stderr",
     "output_type": "stream",
     "text": [
      "Operator `Kernel` ran in 1.70 s\n"
     ]
    },
    {
     "name": "stdout",
     "output_type": "stream",
     "text": [
      "sample no. : 28 Time taken: 1074.5529012801126\n"
     ]
    },
    {
     "name": "stderr",
     "output_type": "stream",
     "text": [
      "Operator `Kernel` ran in 1.70 s\n"
     ]
    },
    {
     "name": "stdout",
     "output_type": "stream",
     "text": [
      "sample no. : 29 Time taken: 1113.464920363389\n"
     ]
    },
    {
     "name": "stderr",
     "output_type": "stream",
     "text": [
      "Operator `Kernel` ran in 1.69 s\n"
     ]
    },
    {
     "name": "stdout",
     "output_type": "stream",
     "text": [
      "sample no. : 30 Time taken: 1151.5740741300397\n"
     ]
    },
    {
     "name": "stderr",
     "output_type": "stream",
     "text": [
      "Operator `Kernel` ran in 1.69 s\n"
     ]
    },
    {
     "name": "stdout",
     "output_type": "stream",
     "text": [
      "sample no. : 31 Time taken: 1189.8695125402883\n"
     ]
    },
    {
     "name": "stderr",
     "output_type": "stream",
     "text": [
      "Operator `Kernel` ran in 1.68 s\n"
     ]
    },
    {
     "name": "stdout",
     "output_type": "stream",
     "text": [
      "sample no. : 32 Time taken: 1227.872951338999\n"
     ]
    },
    {
     "name": "stderr",
     "output_type": "stream",
     "text": [
      "Operator `Kernel` ran in 1.68 s\n"
     ]
    },
    {
     "name": "stdout",
     "output_type": "stream",
     "text": [
      "sample no. : 33 Time taken: 1266.6181124700233\n"
     ]
    },
    {
     "name": "stderr",
     "output_type": "stream",
     "text": [
      "Operator `Kernel` ran in 1.70 s\n"
     ]
    },
    {
     "name": "stdout",
     "output_type": "stream",
     "text": [
      "sample no. : 34 Time taken: 1304.7042067269795\n"
     ]
    },
    {
     "name": "stderr",
     "output_type": "stream",
     "text": [
      "Operator `Kernel` ran in 1.68 s\n"
     ]
    },
    {
     "name": "stdout",
     "output_type": "stream",
     "text": [
      "sample no. : 35 Time taken: 1342.6480068583041\n"
     ]
    },
    {
     "name": "stderr",
     "output_type": "stream",
     "text": [
      "Operator `Kernel` ran in 1.68 s\n"
     ]
    },
    {
     "name": "stdout",
     "output_type": "stream",
     "text": [
      "sample no. : 36 Time taken: 1380.8635970279574\n"
     ]
    },
    {
     "name": "stderr",
     "output_type": "stream",
     "text": [
      "Operator `Kernel` ran in 1.68 s\n"
     ]
    },
    {
     "name": "stdout",
     "output_type": "stream",
     "text": [
      "sample no. : 37 Time taken: 1419.1659242562018\n"
     ]
    },
    {
     "name": "stderr",
     "output_type": "stream",
     "text": [
      "Operator `Kernel` ran in 1.68 s\n"
     ]
    },
    {
     "name": "stdout",
     "output_type": "stream",
     "text": [
      "sample no. : 38 Time taken: 1457.3178029861301\n"
     ]
    },
    {
     "name": "stderr",
     "output_type": "stream",
     "text": [
      "Operator `Kernel` ran in 1.70 s\n"
     ]
    },
    {
     "name": "stdout",
     "output_type": "stream",
     "text": [
      "sample no. : 39 Time taken: 1495.4793336782604\n"
     ]
    },
    {
     "name": "stderr",
     "output_type": "stream",
     "text": [
      "Operator `Kernel` ran in 1.72 s\n"
     ]
    },
    {
     "name": "stdout",
     "output_type": "stream",
     "text": [
      "sample no. : 40 Time taken: 1533.460887123365\n"
     ]
    },
    {
     "name": "stderr",
     "output_type": "stream",
     "text": [
      "Operator `Kernel` ran in 1.68 s\n"
     ]
    },
    {
     "name": "stdout",
     "output_type": "stream",
     "text": [
      "sample no. : 41 Time taken: 1571.6485929302871\n"
     ]
    },
    {
     "name": "stderr",
     "output_type": "stream",
     "text": [
      "Operator `Kernel` ran in 1.69 s\n"
     ]
    },
    {
     "name": "stdout",
     "output_type": "stream",
     "text": [
      "sample no. : 42 Time taken: 1609.9421837683767\n"
     ]
    },
    {
     "name": "stderr",
     "output_type": "stream",
     "text": [
      "Operator `Kernel` ran in 1.68 s\n"
     ]
    },
    {
     "name": "stdout",
     "output_type": "stream",
     "text": [
      "sample no. : 43 Time taken: 1648.0255915410817\n"
     ]
    },
    {
     "name": "stderr",
     "output_type": "stream",
     "text": [
      "Operator `Kernel` ran in 1.70 s\n"
     ]
    },
    {
     "name": "stdout",
     "output_type": "stream",
     "text": [
      "sample no. : 44 Time taken: 1686.6088192509487\n"
     ]
    },
    {
     "name": "stderr",
     "output_type": "stream",
     "text": [
      "Operator `Kernel` ran in 1.71 s\n"
     ]
    },
    {
     "name": "stdout",
     "output_type": "stream",
     "text": [
      "sample no. : 45 Time taken: 1726.4409225131385\n"
     ]
    },
    {
     "name": "stderr",
     "output_type": "stream",
     "text": [
      "Operator `Kernel` ran in 1.69 s\n"
     ]
    },
    {
     "name": "stdout",
     "output_type": "stream",
     "text": [
      "sample no. : 46 Time taken: 1764.4388655801304\n"
     ]
    },
    {
     "name": "stderr",
     "output_type": "stream",
     "text": [
      "Operator `Kernel` ran in 1.68 s\n"
     ]
    },
    {
     "name": "stdout",
     "output_type": "stream",
     "text": [
      "sample no. : 47 Time taken: 1802.7269355203025\n"
     ]
    },
    {
     "name": "stderr",
     "output_type": "stream",
     "text": [
      "Operator `Kernel` ran in 1.70 s\n"
     ]
    },
    {
     "name": "stdout",
     "output_type": "stream",
     "text": [
      "sample no. : 48 Time taken: 1840.9565508342348\n"
     ]
    },
    {
     "name": "stderr",
     "output_type": "stream",
     "text": [
      "Operator `Kernel` ran in 1.69 s\n"
     ]
    },
    {
     "name": "stdout",
     "output_type": "stream",
     "text": [
      "sample no. : 49 Time taken: 1878.9971551783383\n"
     ]
    },
    {
     "name": "stderr",
     "output_type": "stream",
     "text": [
      "Operator `Kernel` ran in 1.71 s\n"
     ]
    },
    {
     "name": "stdout",
     "output_type": "stream",
     "text": [
      "sample no. : 50 Time taken: 1917.307037262246\n"
     ]
    },
    {
     "name": "stderr",
     "output_type": "stream",
     "text": [
      "Operator `Kernel` ran in 1.68 s\n"
     ]
    },
    {
     "name": "stdout",
     "output_type": "stream",
     "text": [
      "sample no. : 51 Time taken: 1955.361122480128\n"
     ]
    },
    {
     "name": "stderr",
     "output_type": "stream",
     "text": [
      "Operator `Kernel` ran in 1.71 s\n"
     ]
    },
    {
     "name": "stdout",
     "output_type": "stream",
     "text": [
      "sample no. : 52 Time taken: 1993.7012181710452\n"
     ]
    },
    {
     "name": "stderr",
     "output_type": "stream",
     "text": [
      "Operator `Kernel` ran in 1.68 s\n"
     ]
    },
    {
     "name": "stdout",
     "output_type": "stream",
     "text": [
      "sample no. : 53 Time taken: 2032.283455410041\n"
     ]
    },
    {
     "name": "stderr",
     "output_type": "stream",
     "text": [
      "Operator `Kernel` ran in 1.69 s\n"
     ]
    },
    {
     "name": "stdout",
     "output_type": "stream",
     "text": [
      "sample no. : 54 Time taken: 2070.315368385054\n"
     ]
    },
    {
     "name": "stderr",
     "output_type": "stream",
     "text": [
      "Operator `Kernel` ran in 1.69 s\n"
     ]
    },
    {
     "name": "stdout",
     "output_type": "stream",
     "text": [
      "sample no. : 55 Time taken: 2108.5722012659535\n"
     ]
    },
    {
     "name": "stderr",
     "output_type": "stream",
     "text": [
      "Operator `Kernel` ran in 1.70 s\n"
     ]
    },
    {
     "name": "stdout",
     "output_type": "stream",
     "text": [
      "sample no. : 56 Time taken: 2146.8145271092653\n"
     ]
    },
    {
     "name": "stderr",
     "output_type": "stream",
     "text": [
      "Operator `Kernel` ran in 1.69 s\n"
     ]
    },
    {
     "name": "stdout",
     "output_type": "stream",
     "text": [
      "sample no. : 57 Time taken: 2184.8998260032386\n"
     ]
    },
    {
     "name": "stderr",
     "output_type": "stream",
     "text": [
      "Operator `Kernel` ran in 1.71 s\n"
     ]
    },
    {
     "name": "stdout",
     "output_type": "stream",
     "text": [
      "sample no. : 58 Time taken: 2223.3073465581983\n"
     ]
    },
    {
     "name": "stderr",
     "output_type": "stream",
     "text": [
      "Operator `Kernel` ran in 1.68 s\n"
     ]
    },
    {
     "name": "stdout",
     "output_type": "stream",
     "text": [
      "sample no. : 59 Time taken: 2261.8192112329416\n"
     ]
    },
    {
     "name": "stderr",
     "output_type": "stream",
     "text": [
      "Operator `Kernel` ran in 1.71 s\n"
     ]
    },
    {
     "name": "stdout",
     "output_type": "stream",
     "text": [
      "sample no. : 60 Time taken: 2300.6052832151763\n"
     ]
    },
    {
     "name": "stderr",
     "output_type": "stream",
     "text": [
      "Operator `Kernel` ran in 1.68 s\n"
     ]
    },
    {
     "name": "stdout",
     "output_type": "stream",
     "text": [
      "sample no. : 61 Time taken: 2339.072506870143\n"
     ]
    },
    {
     "name": "stderr",
     "output_type": "stream",
     "text": [
      "Operator `Kernel` ran in 1.71 s\n"
     ]
    },
    {
     "name": "stdout",
     "output_type": "stream",
     "text": [
      "sample no. : 62 Time taken: 2377.0173100992106\n"
     ]
    },
    {
     "name": "stderr",
     "output_type": "stream",
     "text": [
      "Operator `Kernel` ran in 1.68 s\n"
     ]
    },
    {
     "name": "stdout",
     "output_type": "stream",
     "text": [
      "sample no. : 63 Time taken: 2415.3023364641704\n"
     ]
    },
    {
     "name": "stderr",
     "output_type": "stream",
     "text": [
      "Operator `Kernel` ran in 1.69 s\n"
     ]
    },
    {
     "name": "stdout",
     "output_type": "stream",
     "text": [
      "sample no. : 64 Time taken: 2453.6561684603803\n"
     ]
    },
    {
     "name": "stderr",
     "output_type": "stream",
     "text": [
      "Operator `Kernel` ran in 1.69 s\n"
     ]
    },
    {
     "name": "stdout",
     "output_type": "stream",
     "text": [
      "sample no. : 65 Time taken: 2492.8156767501496\n"
     ]
    },
    {
     "name": "stderr",
     "output_type": "stream",
     "text": [
      "Operator `Kernel` ran in 1.70 s\n"
     ]
    },
    {
     "name": "stdout",
     "output_type": "stream",
     "text": [
      "sample no. : 66 Time taken: 2531.2736118072644\n"
     ]
    },
    {
     "name": "stderr",
     "output_type": "stream",
     "text": [
      "Operator `Kernel` ran in 1.70 s\n"
     ]
    },
    {
     "name": "stdout",
     "output_type": "stream",
     "text": [
      "sample no. : 67 Time taken: 2569.7091806293465\n"
     ]
    },
    {
     "name": "stderr",
     "output_type": "stream",
     "text": [
      "Operator `Kernel` ran in 1.70 s\n"
     ]
    },
    {
     "name": "stdout",
     "output_type": "stream",
     "text": [
      "sample no. : 68 Time taken: 2607.7399686463177\n"
     ]
    },
    {
     "name": "stderr",
     "output_type": "stream",
     "text": [
      "Operator `Kernel` ran in 1.69 s\n"
     ]
    },
    {
     "name": "stdout",
     "output_type": "stream",
     "text": [
      "sample no. : 69 Time taken: 2647.2668937239796\n"
     ]
    },
    {
     "name": "stderr",
     "output_type": "stream",
     "text": [
      "Operator `Kernel` ran in 1.68 s\n"
     ]
    },
    {
     "name": "stdout",
     "output_type": "stream",
     "text": [
      "sample no. : 70 Time taken: 2685.4181028841995\n"
     ]
    },
    {
     "name": "stderr",
     "output_type": "stream",
     "text": [
      "Operator `Kernel` ran in 1.69 s\n"
     ]
    },
    {
     "name": "stdout",
     "output_type": "stream",
     "text": [
      "sample no. : 71 Time taken: 2723.489295599982\n"
     ]
    },
    {
     "name": "stderr",
     "output_type": "stream",
     "text": [
      "Operator `Kernel` ran in 1.69 s\n"
     ]
    },
    {
     "name": "stdout",
     "output_type": "stream",
     "text": [
      "sample no. : 72 Time taken: 2761.733402420301\n"
     ]
    },
    {
     "name": "stderr",
     "output_type": "stream",
     "text": [
      "Operator `Kernel` ran in 1.70 s\n"
     ]
    },
    {
     "name": "stdout",
     "output_type": "stream",
     "text": [
      "sample no. : 73 Time taken: 2799.7246182393283\n"
     ]
    },
    {
     "name": "stderr",
     "output_type": "stream",
     "text": [
      "Operator `Kernel` ran in 1.69 s\n"
     ]
    },
    {
     "name": "stdout",
     "output_type": "stream",
     "text": [
      "sample no. : 74 Time taken: 2838.152972592041\n"
     ]
    },
    {
     "name": "stderr",
     "output_type": "stream",
     "text": [
      "Operator `Kernel` ran in 1.69 s\n"
     ]
    },
    {
     "name": "stdout",
     "output_type": "stream",
     "text": [
      "sample no. : 75 Time taken: 2876.4505734569393\n"
     ]
    },
    {
     "name": "stderr",
     "output_type": "stream",
     "text": [
      "Operator `Kernel` ran in 1.68 s\n"
     ]
    },
    {
     "name": "stdout",
     "output_type": "stream",
     "text": [
      "sample no. : 76 Time taken: 2914.5026449770667\n"
     ]
    },
    {
     "name": "stderr",
     "output_type": "stream",
     "text": [
      "Operator `Kernel` ran in 1.70 s\n"
     ]
    },
    {
     "name": "stdout",
     "output_type": "stream",
     "text": [
      "sample no. : 77 Time taken: 2952.7477447050624\n"
     ]
    },
    {
     "name": "stderr",
     "output_type": "stream",
     "text": [
      "Operator `Kernel` ran in 1.68 s\n"
     ]
    },
    {
     "name": "stdout",
     "output_type": "stream",
     "text": [
      "sample no. : 78 Time taken: 2991.081581848208\n"
     ]
    },
    {
     "name": "stderr",
     "output_type": "stream",
     "text": [
      "Operator `Kernel` ran in 1.70 s\n"
     ]
    },
    {
     "name": "stdout",
     "output_type": "stream",
     "text": [
      "sample no. : 79 Time taken: 3028.988527912181\n"
     ]
    },
    {
     "name": "stderr",
     "output_type": "stream",
     "text": [
      "Operator `Kernel` ran in 1.69 s\n"
     ]
    },
    {
     "name": "stdout",
     "output_type": "stream",
     "text": [
      "sample no. : 80 Time taken: 3067.2623796970583\n"
     ]
    },
    {
     "name": "stderr",
     "output_type": "stream",
     "text": [
      "Operator `Kernel` ran in 1.77 s\n"
     ]
    },
    {
     "name": "stdout",
     "output_type": "stream",
     "text": [
      "sample no. : 81 Time taken: 3105.287566594314\n"
     ]
    },
    {
     "name": "stderr",
     "output_type": "stream",
     "text": [
      "Operator `Kernel` ran in 1.69 s\n"
     ]
    },
    {
     "name": "stdout",
     "output_type": "stream",
     "text": [
      "sample no. : 82 Time taken: 3143.3768213503063\n"
     ]
    },
    {
     "name": "stderr",
     "output_type": "stream",
     "text": [
      "Operator `Kernel` ran in 1.70 s\n"
     ]
    },
    {
     "name": "stdout",
     "output_type": "stream",
     "text": [
      "sample no. : 83 Time taken: 3181.582618599292\n"
     ]
    },
    {
     "name": "stderr",
     "output_type": "stream",
     "text": [
      "Operator `Kernel` ran in 1.69 s\n"
     ]
    },
    {
     "name": "stdout",
     "output_type": "stream",
     "text": [
      "sample no. : 84 Time taken: 3219.4785403143615\n"
     ]
    },
    {
     "name": "stderr",
     "output_type": "stream",
     "text": [
      "Operator `Kernel` ran in 1.70 s\n"
     ]
    },
    {
     "name": "stdout",
     "output_type": "stream",
     "text": [
      "sample no. : 85 Time taken: 3257.780926436186\n"
     ]
    },
    {
     "name": "stderr",
     "output_type": "stream",
     "text": [
      "Operator `Kernel` ran in 1.69 s\n"
     ]
    },
    {
     "name": "stdout",
     "output_type": "stream",
     "text": [
      "sample no. : 86 Time taken: 3296.054537062999\n"
     ]
    },
    {
     "name": "stderr",
     "output_type": "stream",
     "text": [
      "Operator `Kernel` ran in 1.69 s\n"
     ]
    },
    {
     "name": "stdout",
     "output_type": "stream",
     "text": [
      "sample no. : 87 Time taken: 3334.0756466193125\n"
     ]
    },
    {
     "name": "stderr",
     "output_type": "stream",
     "text": [
      "Operator `Kernel` ran in 1.68 s\n"
     ]
    },
    {
     "name": "stdout",
     "output_type": "stream",
     "text": [
      "sample no. : 88 Time taken: 3372.427743193228\n"
     ]
    },
    {
     "name": "stderr",
     "output_type": "stream",
     "text": [
      "Operator `Kernel` ran in 1.71 s\n"
     ]
    },
    {
     "name": "stdout",
     "output_type": "stream",
     "text": [
      "sample no. : 89 Time taken: 3410.6581573612057\n"
     ]
    },
    {
     "name": "stderr",
     "output_type": "stream",
     "text": [
      "Operator `Kernel` ran in 1.69 s\n"
     ]
    },
    {
     "name": "stdout",
     "output_type": "stream",
     "text": [
      "sample no. : 90 Time taken: 3448.834566321224\n"
     ]
    },
    {
     "name": "stderr",
     "output_type": "stream",
     "text": [
      "Operator `Kernel` ran in 1.72 s\n"
     ]
    },
    {
     "name": "stdout",
     "output_type": "stream",
     "text": [
      "sample no. : 91 Time taken: 3487.2002619481646\n"
     ]
    },
    {
     "name": "stderr",
     "output_type": "stream",
     "text": [
      "Operator `Kernel` ran in 1.69 s\n"
     ]
    },
    {
     "name": "stdout",
     "output_type": "stream",
     "text": [
      "sample no. : 92 Time taken: 3526.6491241022013\n"
     ]
    },
    {
     "name": "stderr",
     "output_type": "stream",
     "text": [
      "Operator `Kernel` ran in 1.69 s\n"
     ]
    },
    {
     "name": "stdout",
     "output_type": "stream",
     "text": [
      "sample no. : 93 Time taken: 3566.0499695180915\n"
     ]
    },
    {
     "name": "stderr",
     "output_type": "stream",
     "text": [
      "Operator `Kernel` ran in 1.69 s\n"
     ]
    },
    {
     "name": "stdout",
     "output_type": "stream",
     "text": [
      "sample no. : 94 Time taken: 3604.386684061028\n"
     ]
    },
    {
     "name": "stderr",
     "output_type": "stream",
     "text": [
      "Operator `Kernel` ran in 1.75 s\n"
     ]
    },
    {
     "name": "stdout",
     "output_type": "stream",
     "text": [
      "sample no. : 95 Time taken: 3649.1760601843707\n"
     ]
    },
    {
     "name": "stderr",
     "output_type": "stream",
     "text": [
      "Operator `Kernel` ran in 1.72 s\n"
     ]
    },
    {
     "name": "stdout",
     "output_type": "stream",
     "text": [
      "sample no. : 96 Time taken: 3687.5211353129707\n"
     ]
    },
    {
     "name": "stderr",
     "output_type": "stream",
     "text": [
      "Operator `Kernel` ran in 1.69 s\n"
     ]
    },
    {
     "name": "stdout",
     "output_type": "stream",
     "text": [
      "sample no. : 97 Time taken: 3725.9333896562457\n"
     ]
    },
    {
     "name": "stderr",
     "output_type": "stream",
     "text": [
      "Operator `Kernel` ran in 1.69 s\n"
     ]
    },
    {
     "name": "stdout",
     "output_type": "stream",
     "text": [
      "sample no. : 98 Time taken: 3764.233634813223\n"
     ]
    },
    {
     "name": "stderr",
     "output_type": "stream",
     "text": [
      "Operator `Kernel` ran in 1.68 s\n"
     ]
    },
    {
     "name": "stdout",
     "output_type": "stream",
     "text": [
      "sample no. : 99 Time taken: 3802.725874098018\n"
     ]
    },
    {
     "name": "stderr",
     "output_type": "stream",
     "text": [
      "Operator `Kernel` ran in 1.70 s\n"
     ]
    },
    {
     "name": "stdout",
     "output_type": "stream",
     "text": [
      "sample no. : 100 Time taken: 3841.122359392233\n"
     ]
    },
    {
     "name": "stderr",
     "output_type": "stream",
     "text": [
      "Operator `Kernel` ran in 1.70 s\n"
     ]
    },
    {
     "name": "stdout",
     "output_type": "stream",
     "text": [
      "sample no. : 101 Time taken: 3879.2810072870925\n"
     ]
    },
    {
     "name": "stderr",
     "output_type": "stream",
     "text": [
      "Operator `Kernel` ran in 1.70 s\n"
     ]
    },
    {
     "name": "stdout",
     "output_type": "stream",
     "text": [
      "sample no. : 102 Time taken: 3917.7919501373544\n"
     ]
    }
   ],
   "source": [
    "\n",
    "# number of grid points on [0,1]^2 \n",
    "# s = 256\n",
    "s = 1024 \n",
    "# s = 224\n",
    "# s = 192\n",
    "# s = 160\n",
    "# s = 128\n",
    "\n",
    "# Number of solutions to generate\n",
    "# N = 1000\n",
    "N = 200\n",
    "\n",
    "# Set up 2d GRF with covariance parameters to generate random coefficients\n",
    "norm_a = GaussianRF(2, s, alpha=2, tau=3)\n",
    "\n",
    "# Forcing function, f(x) = 1 \n",
    "f = np.ones((s, s))\n",
    "\n",
    "# create s x s grid with spacing 1\n",
    "grid = devito.Grid(shape=(s, s), extent=(1.0,1.0))\n",
    "    \n",
    "# create function on grid\n",
    "# space order of 2 to enable 2nd derivative\n",
    "# TimeFunction for u can be used despite the lack of a time-dependence. This is done for psuedotime\n",
    "u = devito.TimeFunction(name='u', grid=grid, space_order=2)\n",
    "a = devito.Function(name='a', grid=grid, space_order=2)\n",
    "f1 = devito.Function(name='f1', grid=grid, space_order=2)\n",
    "\n",
    "# define 2D Darcy flow equation\n",
    "equation_u = devito.Eq(-(a*u.dxc).dxc, f1)\n",
    "    \n",
    "# Let SymPy solve for the central stencil point\n",
    "stencil = devito.solve(equation_u, u)\n",
    "    \n",
    "# Let our stencil populate the buffer `u.forward`\n",
    "update = devito.Eq(u.forward, stencil)\n",
    "    \n",
    "    \n",
    "# Boundary Conds. u=0 for all sides\n",
    "x, y = grid.dimensions\n",
    "t = grid.stepping_dim\n",
    "    \n",
    "nx = s\n",
    "ny = s\n",
    "bc = [devito.Eq(u[t+1, x, 0], 0.)]\n",
    "bc += [devito.Eq(u[t+1, x, ny-1], 0.)]\n",
    "bc += [devito.Eq(u[t+1, 0, y], 0.)]\n",
    "bc += [devito.Eq(u[t+1, nx-1, y], 0.)]\n",
    "    \n",
    "op = devito.Operator([update] + bc)\n",
    "\n",
    "\n",
    "# all the inputs\n",
    "coeff = torch.zeros(N, s, s)\n",
    "#all the solutions\n",
    "sol = torch.zeros(N, s, s)\n",
    "\n",
    "c = 0\n",
    "t0 = default_timer()\n",
    "\n",
    "for j in range(N):\n",
    "\n",
    "    #Sample random fields\n",
    "    # Exponentiate it, so that a(x) > 0\n",
    "    # This is done so that the PDE is elliptic\n",
    "    lognorm_a = torch.exp(norm_a.sample(1))\n",
    "    w0 = lognorm_a\n",
    "    \n",
    "    # or create a threshold, either 4 or 12 (more common for permeability)\n",
    "    thresh_a = norm_a.sample(1)\n",
    "    for i in range(s):\n",
    "        for b in range(s):\n",
    "            if thresh_a[0][i][b] < 0:\n",
    "                thresh_a[0][i][b] = 4\n",
    "            else:\n",
    "                    thresh_a[0][i][b] = 12\n",
    "    w1 = thresh_a\n",
    "\n",
    "    #Solve df either for w0 (exp perm) or w1 (thresh perm)\n",
    "    output = darcy_flow_2d(w1, f, s)\n",
    "    \n",
    "    \n",
    "    coeff[c:(c+1),...] = w1\n",
    "    sol[c:(c+1),...] = output\n",
    "\n",
    "    c += 1\n",
    "    t1 = default_timer()\n",
    "    print(\"sample no. :\", c, \"Time taken:\", t1-t0)\n",
    "\n",
    "# scipy.io.savemat('df_train.mat', mdict={'coeff': coeff.cpu().numpy(), 'sol': sol.cpu().numpy()})\n",
    "# scipy.io.savemat('df_test_256.mat', mdict={'coeff': coeff.cpu().numpy(), 'sol': sol.cpu().numpy()})\n",
    "scipy.io.savemat('df_test_1024.mat', mdict={'coeff': coeff.cpu().numpy(), 'sol': sol.cpu().numpy()})\n",
    "# scipy.io.savemat('df_test_224.mat', mdict={'coeff': coeff.cpu().numpy(), 'sol': sol.cpu().numpy()})\n",
    "# scipy.io.savemat('df_test_192.mat', mdict={'coeff': coeff.cpu().numpy(), 'sol': sol.cpu().numpy()})\n",
    "# scipy.io.savemat('df_test_160.mat', mdict={'coeff': coeff.cpu().numpy(), 'sol': sol.cpu().numpy()})\n",
    "# scipy.io.savemat('df_test_128.mat', mdict={'coeff': coeff.cpu().numpy(), 'sol': sol.cpu().numpy()})"
   ]
  },
  {
   "cell_type": "code",
   "execution_count": null,
   "id": "625e567f-f0d6-4772-ac1f-48e425f44e6f",
   "metadata": {},
   "outputs": [],
   "source": []
  }
 ],
 "metadata": {
  "kernelspec": {
   "display_name": "Python 3 (ipykernel)",
   "language": "python",
   "name": "python3"
  },
  "language_info": {
   "codemirror_mode": {
    "name": "ipython",
    "version": 3
   },
   "file_extension": ".py",
   "mimetype": "text/x-python",
   "name": "python",
   "nbconvert_exporter": "python",
   "pygments_lexer": "ipython3",
   "version": "3.10.4"
  }
 },
 "nbformat": 4,
 "nbformat_minor": 5
}
