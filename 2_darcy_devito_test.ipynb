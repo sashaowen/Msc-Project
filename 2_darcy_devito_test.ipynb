{
 "cells": [
  {
   "cell_type": "code",
   "execution_count": 1,
   "id": "23ccb686-1edf-4f2a-bd61-5468d9ae6c42",
   "metadata": {},
   "outputs": [],
   "source": [
    "# Generate data for the Darcy flow problem\n",
    "# Input: a - the permeability \"ground truth\"\n",
    "# output: u - the flow through the permeability\n",
    "# data generated:\n",
    "# 2 datasets of 200 'Devito' pairs, to compare with the ground truth, with resolutions of:\n",
    "# 128, 64"
   ]
  },
  {
   "cell_type": "code",
   "execution_count": null,
   "id": "61755fd6-5237-4072-8449-cb0fa3a387c4",
   "metadata": {},
   "outputs": [],
   "source": [
    "pip install torch"
   ]
  },
  {
   "cell_type": "code",
   "execution_count": null,
   "id": "dd8bb76c-5264-416d-8e5e-e8088be0ab65",
   "metadata": {},
   "outputs": [],
   "source": [
    "pip install tensorflow"
   ]
  },
  {
   "cell_type": "code",
   "execution_count": 4,
   "id": "f4d31b38-7be8-481d-90a1-a6b3a4dca523",
   "metadata": {},
   "outputs": [
    {
     "name": "stderr",
     "output_type": "stream",
     "text": [
      "2022-08-05 09:51:02.135699: W tensorflow/stream_executor/platform/default/dso_loader.cc:64] Could not load dynamic library 'libcudart.so.11.0'; dlerror: libcudart.so.11.0: cannot open shared object file: No such file or directory\n",
      "2022-08-05 09:51:02.135757: I tensorflow/stream_executor/cuda/cudart_stub.cc:29] Ignore above cudart dlerror if you do not have a GPU set up on your machine.\n"
     ]
    }
   ],
   "source": [
    "import torch\n",
    "import math\n",
    "from devito import div, grad, Eq, Operator, TimeFunction, Function, solve, Grid\n",
    "import numpy as np\n",
    "from random_fields import GaussianRF\n",
    "from timeit import default_timer\n",
    "import scipy.io"
   ]
  },
  {
   "cell_type": "code",
   "execution_count": 5,
   "id": "24d595c4-b775-481d-afc2-e094e2cf7cc8",
   "metadata": {},
   "outputs": [],
   "source": [
    "import os"
   ]
  },
  {
   "cell_type": "code",
   "execution_count": 6,
   "id": "32a3b800-5aba-43f4-98ee-ea6d52bb2552",
   "metadata": {},
   "outputs": [],
   "source": [
    "os.environ['DEVITO_LANGUAGE'] = 'openmp'\n",
    "\n",
    "os.environ['OMP_SCHEDULE'] = 'STATIC'\n",
    "\n",
    "os.environ['OMP_PROC_BIND'] = 'true'\n",
    "\n",
    "os.environ['OMP_PLACES'] = 'cores'"
   ]
  },
  {
   "cell_type": "code",
   "execution_count": 7,
   "id": "1152c891-ddfc-4726-bec8-8b583c555b6a",
   "metadata": {},
   "outputs": [],
   "source": [
    "\n",
    "'''\n",
    "function to generate 'u' from 'a' using Devito\n",
    "parameters \n",
    "-----------------\n",
    "perm: tensor of size (1, s, s)\n",
    "    this is \"a\"\n",
    "f: tensor of size (s, s)\n",
    "    the forcing function f(x) = 1\n",
    "s: int\n",
    "    the resolution\n",
    " '''\n",
    "def darcy_flow_2d(perm, f, s):\n",
    "    \n",
    "    # a(x) is the coefficients\n",
    "    # f is the forcing function\n",
    "    # give the a and f1 functions the same data as inputs perm and f\n",
    "    for i in range(s):\n",
    "        f1.data[i] = f[i]\n",
    "        a.data[i] = perm[i]\n",
    "    \n",
    "    # call operator for the nth psuedo-timestep\n",
    "    if s == 128:\n",
    "        n = 7500\n",
    "    else:\n",
    "        n = 3750\n",
    "    \n",
    "    op(time=n)\n",
    "   \n",
    "    return torch. from_numpy(u.data[0])"
   ]
  },
  {
   "cell_type": "code",
   "execution_count": 8,
   "id": "c5a713e3-814c-4396-a378-a583b6eaba47",
   "metadata": {},
   "outputs": [
    {
     "name": "stderr",
     "output_type": "stream",
     "text": [
      "Equation is not affine w.r.t the target, falling back to standardsympy.solve that may be slow\n"
     ]
    },
    {
     "name": "stdout",
     "output_type": "stream",
     "text": [
      "this is s 128\n"
     ]
    },
    {
     "name": "stderr",
     "output_type": "stream",
     "text": [
      "Operator `Kernel` ran in 0.09 s\n",
      "Operator `Kernel` ran in 0.10 s\n"
     ]
    },
    {
     "name": "stdout",
     "output_type": "stream",
     "text": [
      "sample no. : 1 Time taken: 0.20345066394656897\n",
      "sample no. : 2 Time taken: 0.3389128502458334\n"
     ]
    },
    {
     "name": "stderr",
     "output_type": "stream",
     "text": [
      "Operator `Kernel` ran in 0.09 s\n",
      "Operator `Kernel` ran in 0.09 s\n"
     ]
    },
    {
     "name": "stdout",
     "output_type": "stream",
     "text": [
      "sample no. : 3 Time taken: 0.4634434226900339\n",
      "sample no. : 4 Time taken: 0.5866186451166868\n"
     ]
    },
    {
     "name": "stderr",
     "output_type": "stream",
     "text": [
      "Operator `Kernel` ran in 0.09 s\n",
      "Operator `Kernel` ran in 0.09 s\n"
     ]
    },
    {
     "name": "stdout",
     "output_type": "stream",
     "text": [
      "sample no. : 5 Time taken: 0.7105392133817077\n",
      "sample no. : 6 Time taken: 0.8327476410195231\n"
     ]
    },
    {
     "name": "stderr",
     "output_type": "stream",
     "text": [
      "Operator `Kernel` ran in 0.09 s\n",
      "Operator `Kernel` ran in 0.09 s\n"
     ]
    },
    {
     "name": "stdout",
     "output_type": "stream",
     "text": [
      "sample no. : 7 Time taken: 0.9562354618683457\n",
      "sample no. : 8 Time taken: 1.0787726324051619\n"
     ]
    },
    {
     "name": "stderr",
     "output_type": "stream",
     "text": [
      "Operator `Kernel` ran in 0.09 s\n",
      "Operator `Kernel` ran in 0.09 s\n"
     ]
    },
    {
     "name": "stdout",
     "output_type": "stream",
     "text": [
      "sample no. : 9 Time taken: 1.2020960338413715\n",
      "sample no. : 10 Time taken: 1.3240749053657055\n"
     ]
    },
    {
     "name": "stderr",
     "output_type": "stream",
     "text": [
      "Operator `Kernel` ran in 0.10 s\n",
      "Operator `Kernel` ran in 0.11 s\n"
     ]
    },
    {
     "name": "stdout",
     "output_type": "stream",
     "text": [
      "sample no. : 11 Time taken: 1.452524640597403\n",
      "sample no. : 12 Time taken: 1.5949521912261844\n"
     ]
    },
    {
     "name": "stderr",
     "output_type": "stream",
     "text": [
      "Operator `Kernel` ran in 0.13 s\n",
      "Operator `Kernel` ran in 0.12 s\n"
     ]
    },
    {
     "name": "stdout",
     "output_type": "stream",
     "text": [
      "sample no. : 13 Time taken: 1.756602730602026\n",
      "sample no. : 14 Time taken: 1.904643508605659\n"
     ]
    },
    {
     "name": "stderr",
     "output_type": "stream",
     "text": [
      "Operator `Kernel` ran in 0.11 s\n",
      "Operator `Kernel` ran in 0.11 s\n"
     ]
    },
    {
     "name": "stdout",
     "output_type": "stream",
     "text": [
      "sample no. : 15 Time taken: 2.04562527500093\n",
      "sample no. : 16 Time taken: 2.187553036957979\n"
     ]
    },
    {
     "name": "stderr",
     "output_type": "stream",
     "text": [
      "Operator `Kernel` ran in 0.11 s\n",
      "Operator `Kernel` ran in 0.11 s\n"
     ]
    },
    {
     "name": "stdout",
     "output_type": "stream",
     "text": [
      "sample no. : 17 Time taken: 2.3467225013300776\n",
      "sample no. : 18 Time taken: 2.4830970652401447\n"
     ]
    },
    {
     "name": "stderr",
     "output_type": "stream",
     "text": [
      "Operator `Kernel` ran in 0.09 s\n",
      "Operator `Kernel` ran in 0.09 s\n"
     ]
    },
    {
     "name": "stdout",
     "output_type": "stream",
     "text": [
      "sample no. : 19 Time taken: 2.6068944185972214\n",
      "sample no. : 20 Time taken: 2.7308595925569534\n"
     ]
    },
    {
     "name": "stderr",
     "output_type": "stream",
     "text": [
      "Operator `Kernel` ran in 0.11 s\n",
      "Operator `Kernel` ran in 0.10 s\n"
     ]
    },
    {
     "name": "stdout",
     "output_type": "stream",
     "text": [
      "sample no. : 21 Time taken: 2.872079827822745\n",
      "sample no. : 22 Time taken: 2.99780663754791\n"
     ]
    },
    {
     "name": "stderr",
     "output_type": "stream",
     "text": [
      "Operator `Kernel` ran in 0.10 s\n",
      "Operator `Kernel` ran in 0.10 s\n"
     ]
    },
    {
     "name": "stdout",
     "output_type": "stream",
     "text": [
      "sample no. : 23 Time taken: 3.1227721385657787\n",
      "sample no. : 24 Time taken: 3.2629667967557907\n"
     ]
    },
    {
     "name": "stderr",
     "output_type": "stream",
     "text": [
      "Operator `Kernel` ran in 0.09 s\n",
      "Operator `Kernel` ran in 0.10 s\n"
     ]
    },
    {
     "name": "stdout",
     "output_type": "stream",
     "text": [
      "sample no. : 25 Time taken: 3.3876901092007756\n",
      "sample no. : 26 Time taken: 3.5214840844273567\n"
     ]
    },
    {
     "name": "stderr",
     "output_type": "stream",
     "text": [
      "Operator `Kernel` ran in 0.10 s\n",
      "Operator `Kernel` ran in 0.09 s\n"
     ]
    },
    {
     "name": "stdout",
     "output_type": "stream",
     "text": [
      "sample no. : 27 Time taken: 3.6495757615193725\n",
      "sample no. : 28 Time taken: 3.7731776079162955\n"
     ]
    },
    {
     "name": "stderr",
     "output_type": "stream",
     "text": [
      "Operator `Kernel` ran in 0.09 s\n",
      "Operator `Kernel` ran in 0.09 s\n"
     ]
    },
    {
     "name": "stdout",
     "output_type": "stream",
     "text": [
      "sample no. : 29 Time taken: 3.8993431888520718\n",
      "sample no. : 30 Time taken: 4.022107467986643\n"
     ]
    },
    {
     "name": "stderr",
     "output_type": "stream",
     "text": [
      "Operator `Kernel` ran in 0.09 s\n",
      "Operator `Kernel` ran in 0.10 s\n"
     ]
    },
    {
     "name": "stdout",
     "output_type": "stream",
     "text": [
      "sample no. : 31 Time taken: 4.147011495195329\n",
      "sample no. : 32 Time taken: 4.275094372220337\n"
     ]
    },
    {
     "name": "stderr",
     "output_type": "stream",
     "text": [
      "Operator `Kernel` ran in 0.09 s\n",
      "Operator `Kernel` ran in 0.09 s\n"
     ]
    },
    {
     "name": "stdout",
     "output_type": "stream",
     "text": [
      "sample no. : 33 Time taken: 4.398397194221616\n",
      "sample no. : 34 Time taken: 4.520374333485961\n"
     ]
    },
    {
     "name": "stderr",
     "output_type": "stream",
     "text": [
      "Operator `Kernel` ran in 0.10 s\n",
      "Operator `Kernel` ran in 0.09 s\n"
     ]
    },
    {
     "name": "stdout",
     "output_type": "stream",
     "text": [
      "sample no. : 35 Time taken: 4.648016768507659\n",
      "sample no. : 36 Time taken: 4.771674352698028\n"
     ]
    },
    {
     "name": "stderr",
     "output_type": "stream",
     "text": [
      "Operator `Kernel` ran in 0.09 s\n",
      "Operator `Kernel` ran in 0.09 s\n"
     ]
    },
    {
     "name": "stdout",
     "output_type": "stream",
     "text": [
      "sample no. : 37 Time taken: 4.8990373397246\n",
      "sample no. : 38 Time taken: 5.021617034450173\n"
     ]
    },
    {
     "name": "stderr",
     "output_type": "stream",
     "text": [
      "Operator `Kernel` ran in 0.09 s\n",
      "Operator `Kernel` ran in 0.09 s\n"
     ]
    },
    {
     "name": "stdout",
     "output_type": "stream",
     "text": [
      "sample no. : 39 Time taken: 5.14637017250061\n",
      "sample no. : 40 Time taken: 5.268528873100877\n"
     ]
    },
    {
     "name": "stderr",
     "output_type": "stream",
     "text": [
      "Operator `Kernel` ran in 0.09 s\n",
      "Operator `Kernel` ran in 0.09 s\n"
     ]
    },
    {
     "name": "stdout",
     "output_type": "stream",
     "text": [
      "sample no. : 41 Time taken: 5.392328822053969\n",
      "sample no. : 42 Time taken: 5.516902483068407\n"
     ]
    },
    {
     "name": "stderr",
     "output_type": "stream",
     "text": [
      "Operator `Kernel` ran in 0.09 s\n",
      "Operator `Kernel` ran in 0.09 s\n"
     ]
    },
    {
     "name": "stdout",
     "output_type": "stream",
     "text": [
      "sample no. : 43 Time taken: 5.6404809188097715\n",
      "sample no. : 44 Time taken: 5.771784889511764\n"
     ]
    },
    {
     "name": "stderr",
     "output_type": "stream",
     "text": [
      "Operator `Kernel` ran in 0.09 s\n",
      "Operator `Kernel` ran in 0.09 s\n"
     ]
    },
    {
     "name": "stdout",
     "output_type": "stream",
     "text": [
      "sample no. : 45 Time taken: 5.895957068540156\n",
      "sample no. : 46 Time taken: 6.017726251855493\n"
     ]
    },
    {
     "name": "stderr",
     "output_type": "stream",
     "text": [
      "Operator `Kernel` ran in 0.09 s\n",
      "Operator `Kernel` ran in 0.10 s\n"
     ]
    },
    {
     "name": "stdout",
     "output_type": "stream",
     "text": [
      "sample no. : 47 Time taken: 6.140656192786992\n",
      "sample no. : 48 Time taken: 6.27580005209893\n"
     ]
    },
    {
     "name": "stderr",
     "output_type": "stream",
     "text": [
      "Operator `Kernel` ran in 0.10 s\n",
      "Operator `Kernel` ran in 0.09 s\n"
     ]
    },
    {
     "name": "stdout",
     "output_type": "stream",
     "text": [
      "sample no. : 49 Time taken: 6.41274484898895\n",
      "sample no. : 50 Time taken: 6.540385738015175\n"
     ]
    },
    {
     "name": "stderr",
     "output_type": "stream",
     "text": [
      "Operator `Kernel` ran in 0.10 s\n",
      "Operator `Kernel` ran in 0.11 s\n"
     ]
    },
    {
     "name": "stdout",
     "output_type": "stream",
     "text": [
      "sample no. : 51 Time taken: 6.669307129457593\n",
      "sample no. : 52 Time taken: 6.817203880287707\n"
     ]
    },
    {
     "name": "stderr",
     "output_type": "stream",
     "text": [
      "Operator `Kernel` ran in 0.10 s\n",
      "Operator `Kernel` ran in 0.09 s\n"
     ]
    },
    {
     "name": "stdout",
     "output_type": "stream",
     "text": [
      "sample no. : 53 Time taken: 6.946377445943654\n",
      "sample no. : 54 Time taken: 7.075403123162687\n"
     ]
    },
    {
     "name": "stderr",
     "output_type": "stream",
     "text": [
      "Operator `Kernel` ran in 0.10 s\n",
      "Operator `Kernel` ran in 0.09 s\n"
     ]
    },
    {
     "name": "stdout",
     "output_type": "stream",
     "text": [
      "sample no. : 55 Time taken: 7.2057302771136165\n",
      "sample no. : 56 Time taken: 7.332064689137042\n"
     ]
    },
    {
     "name": "stderr",
     "output_type": "stream",
     "text": [
      "Operator `Kernel` ran in 0.09 s\n",
      "Operator `Kernel` ran in 0.09 s\n"
     ]
    },
    {
     "name": "stdout",
     "output_type": "stream",
     "text": [
      "sample no. : 57 Time taken: 7.455481334589422\n",
      "sample no. : 58 Time taken: 7.578250417485833\n"
     ]
    },
    {
     "name": "stderr",
     "output_type": "stream",
     "text": [
      "Operator `Kernel` ran in 0.09 s\n",
      "Operator `Kernel` ran in 0.09 s\n"
     ]
    },
    {
     "name": "stdout",
     "output_type": "stream",
     "text": [
      "sample no. : 59 Time taken: 7.703373798169196\n",
      "sample no. : 60 Time taken: 7.825008059851825\n"
     ]
    },
    {
     "name": "stderr",
     "output_type": "stream",
     "text": [
      "Operator `Kernel` ran in 0.11 s\n",
      "Operator `Kernel` ran in 0.09 s\n"
     ]
    },
    {
     "name": "stdout",
     "output_type": "stream",
     "text": [
      "sample no. : 61 Time taken: 7.967962102033198\n",
      "sample no. : 62 Time taken: 8.089363154023886\n"
     ]
    },
    {
     "name": "stderr",
     "output_type": "stream",
     "text": [
      "Operator `Kernel` ran in 0.10 s\n",
      "Operator `Kernel` ran in 0.09 s\n"
     ]
    },
    {
     "name": "stdout",
     "output_type": "stream",
     "text": [
      "sample no. : 63 Time taken: 8.21688687428832\n",
      "sample no. : 64 Time taken: 8.341123291291296\n"
     ]
    },
    {
     "name": "stderr",
     "output_type": "stream",
     "text": [
      "Operator `Kernel` ran in 0.10 s\n",
      "Operator `Kernel` ran in 0.09 s\n"
     ]
    },
    {
     "name": "stdout",
     "output_type": "stream",
     "text": [
      "sample no. : 65 Time taken: 8.470085934735835\n",
      "sample no. : 66 Time taken: 8.597352876327932\n"
     ]
    },
    {
     "name": "stderr",
     "output_type": "stream",
     "text": [
      "Operator `Kernel` ran in 0.10 s\n",
      "Operator `Kernel` ran in 0.09 s\n"
     ]
    },
    {
     "name": "stdout",
     "output_type": "stream",
     "text": [
      "sample no. : 67 Time taken: 8.725288240239024\n",
      "sample no. : 68 Time taken: 8.849802958779037\n"
     ]
    },
    {
     "name": "stderr",
     "output_type": "stream",
     "text": [
      "Operator `Kernel` ran in 0.09 s\n",
      "Operator `Kernel` ran in 0.10 s\n"
     ]
    },
    {
     "name": "stdout",
     "output_type": "stream",
     "text": [
      "sample no. : 69 Time taken: 8.975918674841523\n",
      "sample no. : 70 Time taken: 9.105801745317876\n"
     ]
    },
    {
     "name": "stderr",
     "output_type": "stream",
     "text": [
      "Operator `Kernel` ran in 0.10 s\n",
      "Operator `Kernel` ran in 0.09 s\n"
     ]
    },
    {
     "name": "stdout",
     "output_type": "stream",
     "text": [
      "sample no. : 71 Time taken: 9.23119527939707\n",
      "sample no. : 72 Time taken: 9.357504475861788\n"
     ]
    },
    {
     "name": "stderr",
     "output_type": "stream",
     "text": [
      "Operator `Kernel` ran in 0.09 s\n",
      "Operator `Kernel` ran in 0.09 s\n"
     ]
    },
    {
     "name": "stdout",
     "output_type": "stream",
     "text": [
      "sample no. : 73 Time taken: 9.481484254822135\n",
      "sample no. : 74 Time taken: 9.603458578698337\n"
     ]
    },
    {
     "name": "stderr",
     "output_type": "stream",
     "text": [
      "Operator `Kernel` ran in 0.10 s\n",
      "Operator `Kernel` ran in 0.09 s\n"
     ]
    },
    {
     "name": "stdout",
     "output_type": "stream",
     "text": [
      "sample no. : 75 Time taken: 9.732312167994678\n",
      "sample no. : 76 Time taken: 9.857843060977757\n"
     ]
    },
    {
     "name": "stderr",
     "output_type": "stream",
     "text": [
      "Operator `Kernel` ran in 0.09 s\n",
      "Operator `Kernel` ran in 0.09 s\n"
     ]
    },
    {
     "name": "stdout",
     "output_type": "stream",
     "text": [
      "sample no. : 77 Time taken: 9.984492039307952\n",
      "sample no. : 78 Time taken: 10.107361922971904\n"
     ]
    },
    {
     "name": "stderr",
     "output_type": "stream",
     "text": [
      "Operator `Kernel` ran in 0.10 s\n",
      "Operator `Kernel` ran in 0.10 s\n"
     ]
    },
    {
     "name": "stdout",
     "output_type": "stream",
     "text": [
      "sample no. : 79 Time taken: 10.237205740064383\n",
      "sample no. : 80 Time taken: 10.366169988177717\n"
     ]
    },
    {
     "name": "stderr",
     "output_type": "stream",
     "text": [
      "Operator `Kernel` ran in 0.09 s\n",
      "Operator `Kernel` ran in 0.09 s\n"
     ]
    },
    {
     "name": "stdout",
     "output_type": "stream",
     "text": [
      "sample no. : 81 Time taken: 10.490504695102572\n",
      "sample no. : 82 Time taken: 10.612722760997713\n"
     ]
    },
    {
     "name": "stderr",
     "output_type": "stream",
     "text": [
      "Operator `Kernel` ran in 0.09 s\n",
      "Operator `Kernel` ran in 0.09 s\n"
     ]
    },
    {
     "name": "stdout",
     "output_type": "stream",
     "text": [
      "sample no. : 83 Time taken: 10.740512004122138\n",
      "sample no. : 84 Time taken: 10.863100994378328\n"
     ]
    },
    {
     "name": "stderr",
     "output_type": "stream",
     "text": [
      "Operator `Kernel` ran in 0.09 s\n",
      "Operator `Kernel` ran in 0.09 s\n"
     ]
    },
    {
     "name": "stdout",
     "output_type": "stream",
     "text": [
      "sample no. : 85 Time taken: 10.985880713909864\n",
      "sample no. : 86 Time taken: 11.108562113717198\n"
     ]
    },
    {
     "name": "stderr",
     "output_type": "stream",
     "text": [
      "Operator `Kernel` ran in 0.09 s\n",
      "Operator `Kernel` ran in 0.09 s\n"
     ]
    },
    {
     "name": "stdout",
     "output_type": "stream",
     "text": [
      "sample no. : 87 Time taken: 11.232217594981194\n",
      "sample no. : 88 Time taken: 11.356235003098845\n"
     ]
    },
    {
     "name": "stderr",
     "output_type": "stream",
     "text": [
      "Operator `Kernel` ran in 0.10 s\n",
      "Operator `Kernel` ran in 0.09 s\n"
     ]
    },
    {
     "name": "stdout",
     "output_type": "stream",
     "text": [
      "sample no. : 89 Time taken: 11.488230843096972\n",
      "sample no. : 90 Time taken: 11.610499259084463\n"
     ]
    },
    {
     "name": "stderr",
     "output_type": "stream",
     "text": [
      "Operator `Kernel` ran in 0.09 s\n",
      "Operator `Kernel` ran in 0.12 s\n"
     ]
    },
    {
     "name": "stdout",
     "output_type": "stream",
     "text": [
      "sample no. : 91 Time taken: 11.734616286121309\n",
      "sample no. : 92 Time taken: 11.890030138194561\n"
     ]
    },
    {
     "name": "stderr",
     "output_type": "stream",
     "text": [
      "Operator `Kernel` ran in 0.09 s\n",
      "Operator `Kernel` ran in 0.09 s\n"
     ]
    },
    {
     "name": "stdout",
     "output_type": "stream",
     "text": [
      "sample no. : 93 Time taken: 12.012004168704152\n",
      "sample no. : 94 Time taken: 12.133903973735869\n"
     ]
    },
    {
     "name": "stderr",
     "output_type": "stream",
     "text": [
      "Operator `Kernel` ran in 0.10 s\n",
      "Operator `Kernel` ran in 0.09 s\n"
     ]
    },
    {
     "name": "stdout",
     "output_type": "stream",
     "text": [
      "sample no. : 95 Time taken: 12.264150091446936\n",
      "sample no. : 96 Time taken: 12.386796009726822\n"
     ]
    },
    {
     "name": "stderr",
     "output_type": "stream",
     "text": [
      "Operator `Kernel` ran in 0.09 s\n",
      "Operator `Kernel` ran in 0.09 s\n"
     ]
    },
    {
     "name": "stdout",
     "output_type": "stream",
     "text": [
      "sample no. : 97 Time taken: 12.512779287993908\n",
      "sample no. : 98 Time taken: 12.634146644733846\n"
     ]
    },
    {
     "name": "stderr",
     "output_type": "stream",
     "text": [
      "Operator `Kernel` ran in 0.09 s\n",
      "Operator `Kernel` ran in 0.09 s\n"
     ]
    },
    {
     "name": "stdout",
     "output_type": "stream",
     "text": [
      "sample no. : 99 Time taken: 12.758870536461473\n",
      "sample no. : 100 Time taken: 12.882472286000848\n"
     ]
    },
    {
     "name": "stderr",
     "output_type": "stream",
     "text": [
      "Operator `Kernel` ran in 0.09 s\n",
      "Operator `Kernel` ran in 0.09 s\n"
     ]
    },
    {
     "name": "stdout",
     "output_type": "stream",
     "text": [
      "sample no. : 101 Time taken: 13.006083244457841\n",
      "sample no. : 102 Time taken: 13.12874125316739\n"
     ]
    },
    {
     "name": "stderr",
     "output_type": "stream",
     "text": [
      "Operator `Kernel` ran in 0.09 s\n",
      "Operator `Kernel` ran in 0.09 s\n"
     ]
    },
    {
     "name": "stdout",
     "output_type": "stream",
     "text": [
      "sample no. : 103 Time taken: 13.251736650243402\n",
      "sample no. : 104 Time taken: 13.380438080988824\n"
     ]
    },
    {
     "name": "stderr",
     "output_type": "stream",
     "text": [
      "Operator `Kernel` ran in 0.09 s\n",
      "Operator `Kernel` ran in 0.09 s\n"
     ]
    },
    {
     "name": "stdout",
     "output_type": "stream",
     "text": [
      "sample no. : 105 Time taken: 13.506367809139192\n",
      "sample no. : 106 Time taken: 13.628080777823925\n"
     ]
    },
    {
     "name": "stderr",
     "output_type": "stream",
     "text": [
      "Operator `Kernel` ran in 0.09 s\n",
      "Operator `Kernel` ran in 0.09 s\n"
     ]
    },
    {
     "name": "stdout",
     "output_type": "stream",
     "text": [
      "sample no. : 107 Time taken: 13.751350251957774\n",
      "sample no. : 108 Time taken: 13.873087054118514\n"
     ]
    },
    {
     "name": "stderr",
     "output_type": "stream",
     "text": [
      "Operator `Kernel` ran in 0.09 s\n",
      "Operator `Kernel` ran in 0.09 s\n"
     ]
    },
    {
     "name": "stdout",
     "output_type": "stream",
     "text": [
      "sample no. : 109 Time taken: 13.99730877391994\n",
      "sample no. : 110 Time taken: 14.120682056993246\n"
     ]
    },
    {
     "name": "stderr",
     "output_type": "stream",
     "text": [
      "Operator `Kernel` ran in 0.10 s\n",
      "Operator `Kernel` ran in 0.09 s\n"
     ]
    },
    {
     "name": "stdout",
     "output_type": "stream",
     "text": [
      "sample no. : 111 Time taken: 14.251125910319388\n",
      "sample no. : 112 Time taken: 14.374774686992168\n"
     ]
    },
    {
     "name": "stderr",
     "output_type": "stream",
     "text": [
      "Operator `Kernel` ran in 0.09 s\n",
      "Operator `Kernel` ran in 0.09 s\n"
     ]
    },
    {
     "name": "stdout",
     "output_type": "stream",
     "text": [
      "sample no. : 113 Time taken: 14.498491582460701\n",
      "sample no. : 114 Time taken: 14.621511026285589\n"
     ]
    },
    {
     "name": "stderr",
     "output_type": "stream",
     "text": [
      "Operator `Kernel` ran in 0.09 s\n",
      "Operator `Kernel` ran in 0.09 s\n"
     ]
    },
    {
     "name": "stdout",
     "output_type": "stream",
     "text": [
      "sample no. : 115 Time taken: 14.745322993025184\n",
      "sample no. : 116 Time taken: 14.870628339238465\n"
     ]
    },
    {
     "name": "stderr",
     "output_type": "stream",
     "text": [
      "Operator `Kernel` ran in 0.09 s\n",
      "Operator `Kernel` ran in 0.09 s\n"
     ]
    },
    {
     "name": "stdout",
     "output_type": "stream",
     "text": [
      "sample no. : 117 Time taken: 14.995612024329603\n",
      "sample no. : 118 Time taken: 15.118492796085775\n"
     ]
    },
    {
     "name": "stderr",
     "output_type": "stream",
     "text": [
      "Operator `Kernel` ran in 0.09 s\n",
      "Operator `Kernel` ran in 0.09 s\n"
     ]
    },
    {
     "name": "stdout",
     "output_type": "stream",
     "text": [
      "sample no. : 119 Time taken: 15.24057455547154\n",
      "sample no. : 120 Time taken: 15.362271306104958\n"
     ]
    },
    {
     "name": "stderr",
     "output_type": "stream",
     "text": [
      "Operator `Kernel` ran in 0.09 s\n",
      "Operator `Kernel` ran in 0.09 s\n"
     ]
    },
    {
     "name": "stdout",
     "output_type": "stream",
     "text": [
      "sample no. : 121 Time taken: 15.485792394727468\n",
      "sample no. : 122 Time taken: 15.609571447595954\n"
     ]
    },
    {
     "name": "stderr",
     "output_type": "stream",
     "text": [
      "Operator `Kernel` ran in 0.10 s\n",
      "Operator `Kernel` ran in 0.09 s\n"
     ]
    },
    {
     "name": "stdout",
     "output_type": "stream",
     "text": [
      "sample no. : 123 Time taken: 15.734398701228201\n",
      "sample no. : 124 Time taken: 15.857830960303545\n"
     ]
    },
    {
     "name": "stderr",
     "output_type": "stream",
     "text": [
      "Operator `Kernel` ran in 0.09 s\n",
      "Operator `Kernel` ran in 0.09 s\n"
     ]
    },
    {
     "name": "stdout",
     "output_type": "stream",
     "text": [
      "sample no. : 125 Time taken: 15.981661721132696\n",
      "sample no. : 126 Time taken: 16.10409074369818\n"
     ]
    },
    {
     "name": "stderr",
     "output_type": "stream",
     "text": [
      "Operator `Kernel` ran in 0.10 s\n",
      "Operator `Kernel` ran in 0.09 s\n"
     ]
    },
    {
     "name": "stdout",
     "output_type": "stream",
     "text": [
      "sample no. : 127 Time taken: 16.233744269236922\n",
      "sample no. : 128 Time taken: 16.35667012538761\n"
     ]
    },
    {
     "name": "stderr",
     "output_type": "stream",
     "text": [
      "Operator `Kernel` ran in 0.09 s\n",
      "Operator `Kernel` ran in 0.09 s\n"
     ]
    },
    {
     "name": "stdout",
     "output_type": "stream",
     "text": [
      "sample no. : 129 Time taken: 16.482377668842673\n",
      "sample no. : 130 Time taken: 16.60600128211081\n"
     ]
    },
    {
     "name": "stderr",
     "output_type": "stream",
     "text": [
      "Operator `Kernel` ran in 0.09 s\n",
      "Operator `Kernel` ran in 0.09 s\n"
     ]
    },
    {
     "name": "stdout",
     "output_type": "stream",
     "text": [
      "sample no. : 131 Time taken: 16.729836902581155\n",
      "sample no. : 132 Time taken: 16.852042097598314\n"
     ]
    },
    {
     "name": "stderr",
     "output_type": "stream",
     "text": [
      "Operator `Kernel` ran in 0.11 s\n",
      "Operator `Kernel` ran in 0.09 s\n"
     ]
    },
    {
     "name": "stdout",
     "output_type": "stream",
     "text": [
      "sample no. : 133 Time taken: 16.99394288379699\n",
      "sample no. : 134 Time taken: 17.116761052049696\n"
     ]
    },
    {
     "name": "stderr",
     "output_type": "stream",
     "text": [
      "Operator `Kernel` ran in 0.09 s\n",
      "Operator `Kernel` ran in 0.09 s\n"
     ]
    },
    {
     "name": "stdout",
     "output_type": "stream",
     "text": [
      "sample no. : 135 Time taken: 17.241585617884994\n",
      "sample no. : 136 Time taken: 17.362997533753514\n"
     ]
    },
    {
     "name": "stderr",
     "output_type": "stream",
     "text": [
      "Operator `Kernel` ran in 0.09 s\n",
      "Operator `Kernel` ran in 0.09 s\n"
     ]
    },
    {
     "name": "stdout",
     "output_type": "stream",
     "text": [
      "sample no. : 137 Time taken: 17.486609917134047\n",
      "sample no. : 138 Time taken: 17.610575204715133\n"
     ]
    },
    {
     "name": "stderr",
     "output_type": "stream",
     "text": [
      "Operator `Kernel` ran in 0.09 s\n",
      "Operator `Kernel` ran in 0.09 s\n"
     ]
    },
    {
     "name": "stdout",
     "output_type": "stream",
     "text": [
      "sample no. : 139 Time taken: 17.733785511925817\n",
      "sample no. : 140 Time taken: 17.855933004058897\n"
     ]
    },
    {
     "name": "stderr",
     "output_type": "stream",
     "text": [
      "Operator `Kernel` ran in 0.11 s\n"
     ]
    },
    {
     "name": "stdout",
     "output_type": "stream",
     "text": [
      "sample no. : 141 Time taken: 17.999625925906003\n"
     ]
    },
    {
     "name": "stderr",
     "output_type": "stream",
     "text": [
      "Operator `Kernel` ran in 0.10 s\n"
     ]
    },
    {
     "name": "stdout",
     "output_type": "stream",
     "text": [
      "sample no. : 142 Time taken: 18.126990010030568\n"
     ]
    },
    {
     "name": "stderr",
     "output_type": "stream",
     "text": [
      "Operator `Kernel` ran in 0.11 s\n"
     ]
    },
    {
     "name": "stdout",
     "output_type": "stream",
     "text": [
      "sample no. : 143 Time taken: 18.266618662513793\n"
     ]
    },
    {
     "name": "stderr",
     "output_type": "stream",
     "text": [
      "Operator `Kernel` ran in 0.10 s\n"
     ]
    },
    {
     "name": "stdout",
     "output_type": "stream",
     "text": [
      "sample no. : 144 Time taken: 18.412747099995613\n"
     ]
    },
    {
     "name": "stderr",
     "output_type": "stream",
     "text": [
      "Operator `Kernel` ran in 0.10 s\n"
     ]
    },
    {
     "name": "stdout",
     "output_type": "stream",
     "text": [
      "sample no. : 145 Time taken: 18.543008043430746\n"
     ]
    },
    {
     "name": "stderr",
     "output_type": "stream",
     "text": [
      "Operator `Kernel` ran in 0.09 s\n"
     ]
    },
    {
     "name": "stdout",
     "output_type": "stream",
     "text": [
      "sample no. : 146 Time taken: 18.667290409095585\n"
     ]
    },
    {
     "name": "stderr",
     "output_type": "stream",
     "text": [
      "Operator `Kernel` ran in 0.09 s\n"
     ]
    },
    {
     "name": "stdout",
     "output_type": "stream",
     "text": [
      "sample no. : 147 Time taken: 18.79301535896957\n"
     ]
    },
    {
     "name": "stderr",
     "output_type": "stream",
     "text": [
      "Operator `Kernel` ran in 0.09 s\n"
     ]
    },
    {
     "name": "stdout",
     "output_type": "stream",
     "text": [
      "sample no. : 148 Time taken: 18.918825171887875\n"
     ]
    },
    {
     "name": "stderr",
     "output_type": "stream",
     "text": [
      "Operator `Kernel` ran in 0.09 s\n"
     ]
    },
    {
     "name": "stdout",
     "output_type": "stream",
     "text": [
      "sample no. : 149 Time taken: 19.042614851146936\n"
     ]
    },
    {
     "name": "stderr",
     "output_type": "stream",
     "text": [
      "Operator `Kernel` ran in 0.09 s\n"
     ]
    },
    {
     "name": "stdout",
     "output_type": "stream",
     "text": [
      "sample no. : 150 Time taken: 19.16646358370781\n"
     ]
    },
    {
     "name": "stderr",
     "output_type": "stream",
     "text": [
      "Operator `Kernel` ran in 0.09 s\n"
     ]
    },
    {
     "name": "stdout",
     "output_type": "stream",
     "text": [
      "sample no. : 151 Time taken: 19.28988682385534\n"
     ]
    },
    {
     "name": "stderr",
     "output_type": "stream",
     "text": [
      "Operator `Kernel` ran in 0.09 s\n"
     ]
    },
    {
     "name": "stdout",
     "output_type": "stream",
     "text": [
      "sample no. : 152 Time taken: 19.414850492961705\n"
     ]
    },
    {
     "name": "stderr",
     "output_type": "stream",
     "text": [
      "Operator `Kernel` ran in 0.09 s\n"
     ]
    },
    {
     "name": "stdout",
     "output_type": "stream",
     "text": [
      "sample no. : 153 Time taken: 19.539592782966793\n"
     ]
    },
    {
     "name": "stderr",
     "output_type": "stream",
     "text": [
      "Operator `Kernel` ran in 0.09 s\n"
     ]
    },
    {
     "name": "stdout",
     "output_type": "stream",
     "text": [
      "sample no. : 154 Time taken: 19.663576060906053\n"
     ]
    },
    {
     "name": "stderr",
     "output_type": "stream",
     "text": [
      "Operator `Kernel` ran in 0.09 s\n"
     ]
    },
    {
     "name": "stdout",
     "output_type": "stream",
     "text": [
      "sample no. : 155 Time taken: 19.793358478695154\n"
     ]
    },
    {
     "name": "stderr",
     "output_type": "stream",
     "text": [
      "Operator `Kernel` ran in 0.10 s\n"
     ]
    },
    {
     "name": "stdout",
     "output_type": "stream",
     "text": [
      "sample no. : 156 Time taken: 19.93032579589635\n"
     ]
    },
    {
     "name": "stderr",
     "output_type": "stream",
     "text": [
      "Operator `Kernel` ran in 0.09 s\n"
     ]
    },
    {
     "name": "stdout",
     "output_type": "stream",
     "text": [
      "sample no. : 157 Time taken: 20.05821020435542\n"
     ]
    },
    {
     "name": "stderr",
     "output_type": "stream",
     "text": [
      "Operator `Kernel` ran in 0.09 s\n"
     ]
    },
    {
     "name": "stdout",
     "output_type": "stream",
     "text": [
      "sample no. : 158 Time taken: 20.18121133092791\n"
     ]
    },
    {
     "name": "stderr",
     "output_type": "stream",
     "text": [
      "Operator `Kernel` ran in 0.10 s\n"
     ]
    },
    {
     "name": "stdout",
     "output_type": "stream",
     "text": [
      "sample no. : 159 Time taken: 20.315165176056325\n"
     ]
    },
    {
     "name": "stderr",
     "output_type": "stream",
     "text": [
      "Operator `Kernel` ran in 0.09 s\n"
     ]
    },
    {
     "name": "stdout",
     "output_type": "stream",
     "text": [
      "sample no. : 160 Time taken: 20.444736963137984\n"
     ]
    },
    {
     "name": "stderr",
     "output_type": "stream",
     "text": [
      "Operator `Kernel` ran in 0.09 s\n"
     ]
    },
    {
     "name": "stdout",
     "output_type": "stream",
     "text": [
      "sample no. : 161 Time taken: 20.56906662415713\n"
     ]
    },
    {
     "name": "stderr",
     "output_type": "stream",
     "text": [
      "Operator `Kernel` ran in 0.09 s\n"
     ]
    },
    {
     "name": "stdout",
     "output_type": "stream",
     "text": [
      "sample no. : 162 Time taken: 20.696372548118234\n"
     ]
    },
    {
     "name": "stderr",
     "output_type": "stream",
     "text": [
      "Operator `Kernel` ran in 0.09 s\n"
     ]
    },
    {
     "name": "stdout",
     "output_type": "stream",
     "text": [
      "sample no. : 163 Time taken: 20.82622801978141\n"
     ]
    },
    {
     "name": "stderr",
     "output_type": "stream",
     "text": [
      "Operator `Kernel` ran in 0.09 s\n"
     ]
    },
    {
     "name": "stdout",
     "output_type": "stream",
     "text": [
      "sample no. : 164 Time taken: 20.949906821362674\n"
     ]
    },
    {
     "name": "stderr",
     "output_type": "stream",
     "text": [
      "Operator `Kernel` ran in 0.09 s\n"
     ]
    },
    {
     "name": "stdout",
     "output_type": "stream",
     "text": [
      "sample no. : 165 Time taken: 21.075000014156103\n"
     ]
    },
    {
     "name": "stderr",
     "output_type": "stream",
     "text": [
      "Operator `Kernel` ran in 0.09 s\n"
     ]
    },
    {
     "name": "stdout",
     "output_type": "stream",
     "text": [
      "sample no. : 166 Time taken: 21.198737335391343\n"
     ]
    },
    {
     "name": "stderr",
     "output_type": "stream",
     "text": [
      "Operator `Kernel` ran in 0.09 s\n"
     ]
    },
    {
     "name": "stdout",
     "output_type": "stream",
     "text": [
      "sample no. : 167 Time taken: 21.326127868145704\n"
     ]
    },
    {
     "name": "stderr",
     "output_type": "stream",
     "text": [
      "Operator `Kernel` ran in 0.10 s\n"
     ]
    },
    {
     "name": "stdout",
     "output_type": "stream",
     "text": [
      "sample no. : 168 Time taken: 21.45515984389931\n"
     ]
    },
    {
     "name": "stderr",
     "output_type": "stream",
     "text": [
      "Operator `Kernel` ran in 0.09 s\n"
     ]
    },
    {
     "name": "stdout",
     "output_type": "stream",
     "text": [
      "sample no. : 169 Time taken: 21.57984577678144\n"
     ]
    },
    {
     "name": "stderr",
     "output_type": "stream",
     "text": [
      "Operator `Kernel` ran in 0.09 s\n"
     ]
    },
    {
     "name": "stdout",
     "output_type": "stream",
     "text": [
      "sample no. : 170 Time taken: 21.703890407457948\n"
     ]
    },
    {
     "name": "stderr",
     "output_type": "stream",
     "text": [
      "Operator `Kernel` ran in 0.09 s\n"
     ]
    },
    {
     "name": "stdout",
     "output_type": "stream",
     "text": [
      "sample no. : 171 Time taken: 21.840679263696074\n"
     ]
    },
    {
     "name": "stderr",
     "output_type": "stream",
     "text": [
      "Operator `Kernel` ran in 0.10 s\n"
     ]
    },
    {
     "name": "stdout",
     "output_type": "stream",
     "text": [
      "sample no. : 172 Time taken: 21.973161697387695\n"
     ]
    },
    {
     "name": "stderr",
     "output_type": "stream",
     "text": [
      "Operator `Kernel` ran in 0.11 s\n"
     ]
    },
    {
     "name": "stdout",
     "output_type": "stream",
     "text": [
      "sample no. : 173 Time taken: 22.119143415242434\n"
     ]
    },
    {
     "name": "stderr",
     "output_type": "stream",
     "text": [
      "Operator `Kernel` ran in 0.10 s\n"
     ]
    },
    {
     "name": "stdout",
     "output_type": "stream",
     "text": [
      "sample no. : 174 Time taken: 22.253392682410777\n"
     ]
    },
    {
     "name": "stderr",
     "output_type": "stream",
     "text": [
      "Operator `Kernel` ran in 0.09 s\n"
     ]
    },
    {
     "name": "stdout",
     "output_type": "stream",
     "text": [
      "sample no. : 175 Time taken: 22.377360535785556\n"
     ]
    },
    {
     "name": "stderr",
     "output_type": "stream",
     "text": [
      "Operator `Kernel` ran in 0.09 s\n"
     ]
    },
    {
     "name": "stdout",
     "output_type": "stream",
     "text": [
      "sample no. : 176 Time taken: 22.501502951607108\n"
     ]
    },
    {
     "name": "stderr",
     "output_type": "stream",
     "text": [
      "Operator `Kernel` ran in 0.09 s\n"
     ]
    },
    {
     "name": "stdout",
     "output_type": "stream",
     "text": [
      "sample no. : 177 Time taken: 22.631341605447233\n"
     ]
    },
    {
     "name": "stderr",
     "output_type": "stream",
     "text": [
      "Operator `Kernel` ran in 0.09 s\n"
     ]
    },
    {
     "name": "stdout",
     "output_type": "stream",
     "text": [
      "sample no. : 178 Time taken: 22.758528040722013\n"
     ]
    },
    {
     "name": "stderr",
     "output_type": "stream",
     "text": [
      "Operator `Kernel` ran in 0.09 s\n"
     ]
    },
    {
     "name": "stdout",
     "output_type": "stream",
     "text": [
      "sample no. : 179 Time taken: 22.882642140612006\n"
     ]
    },
    {
     "name": "stderr",
     "output_type": "stream",
     "text": [
      "Operator `Kernel` ran in 0.10 s\n"
     ]
    },
    {
     "name": "stdout",
     "output_type": "stream",
     "text": [
      "sample no. : 180 Time taken: 23.008901929482818\n"
     ]
    },
    {
     "name": "stderr",
     "output_type": "stream",
     "text": [
      "Operator `Kernel` ran in 0.09 s\n"
     ]
    },
    {
     "name": "stdout",
     "output_type": "stream",
     "text": [
      "sample no. : 181 Time taken: 23.131844050250947\n"
     ]
    },
    {
     "name": "stderr",
     "output_type": "stream",
     "text": [
      "Operator `Kernel` ran in 0.09 s\n"
     ]
    },
    {
     "name": "stdout",
     "output_type": "stream",
     "text": [
      "sample no. : 182 Time taken: 23.258046371862292\n"
     ]
    },
    {
     "name": "stderr",
     "output_type": "stream",
     "text": [
      "Operator `Kernel` ran in 0.09 s\n"
     ]
    },
    {
     "name": "stdout",
     "output_type": "stream",
     "text": [
      "sample no. : 183 Time taken: 23.381567294709384\n"
     ]
    },
    {
     "name": "stderr",
     "output_type": "stream",
     "text": [
      "Operator `Kernel` ran in 0.09 s\n"
     ]
    },
    {
     "name": "stdout",
     "output_type": "stream",
     "text": [
      "sample no. : 184 Time taken: 23.506256234832108\n"
     ]
    },
    {
     "name": "stderr",
     "output_type": "stream",
     "text": [
      "Operator `Kernel` ran in 0.10 s\n"
     ]
    },
    {
     "name": "stdout",
     "output_type": "stream",
     "text": [
      "sample no. : 185 Time taken: 23.633133691735566\n"
     ]
    },
    {
     "name": "stderr",
     "output_type": "stream",
     "text": [
      "Operator `Kernel` ran in 0.09 s\n"
     ]
    },
    {
     "name": "stdout",
     "output_type": "stream",
     "text": [
      "sample no. : 186 Time taken: 23.759512490592897\n"
     ]
    },
    {
     "name": "stderr",
     "output_type": "stream",
     "text": [
      "Operator `Kernel` ran in 0.09 s\n"
     ]
    },
    {
     "name": "stdout",
     "output_type": "stream",
     "text": [
      "sample no. : 187 Time taken: 23.882892603054643\n"
     ]
    },
    {
     "name": "stderr",
     "output_type": "stream",
     "text": [
      "Operator `Kernel` ran in 0.09 s\n"
     ]
    },
    {
     "name": "stdout",
     "output_type": "stream",
     "text": [
      "sample no. : 188 Time taken: 24.007338448427618\n"
     ]
    },
    {
     "name": "stderr",
     "output_type": "stream",
     "text": [
      "Operator `Kernel` ran in 0.09 s\n"
     ]
    },
    {
     "name": "stdout",
     "output_type": "stream",
     "text": [
      "sample no. : 189 Time taken: 24.132853102870286\n"
     ]
    },
    {
     "name": "stderr",
     "output_type": "stream",
     "text": [
      "Operator `Kernel` ran in 0.10 s\n"
     ]
    },
    {
     "name": "stdout",
     "output_type": "stream",
     "text": [
      "sample no. : 190 Time taken: 24.266666068695486\n"
     ]
    },
    {
     "name": "stderr",
     "output_type": "stream",
     "text": [
      "Operator `Kernel` ran in 0.09 s\n"
     ]
    },
    {
     "name": "stdout",
     "output_type": "stream",
     "text": [
      "sample no. : 191 Time taken: 24.39358875527978\n"
     ]
    },
    {
     "name": "stderr",
     "output_type": "stream",
     "text": [
      "Operator `Kernel` ran in 0.09 s\n"
     ]
    },
    {
     "name": "stdout",
     "output_type": "stream",
     "text": [
      "sample no. : 192 Time taken: 24.5176874184981\n"
     ]
    },
    {
     "name": "stderr",
     "output_type": "stream",
     "text": [
      "Operator `Kernel` ran in 0.09 s\n"
     ]
    },
    {
     "name": "stdout",
     "output_type": "stream",
     "text": [
      "sample no. : 193 Time taken: 24.641362657770514\n"
     ]
    },
    {
     "name": "stderr",
     "output_type": "stream",
     "text": [
      "Operator `Kernel` ran in 0.09 s\n"
     ]
    },
    {
     "name": "stdout",
     "output_type": "stream",
     "text": [
      "sample no. : 194 Time taken: 24.767673816531897\n"
     ]
    },
    {
     "name": "stderr",
     "output_type": "stream",
     "text": [
      "Operator `Kernel` ran in 0.09 s\n"
     ]
    },
    {
     "name": "stdout",
     "output_type": "stream",
     "text": [
      "sample no. : 195 Time taken: 24.890516481362283\n"
     ]
    },
    {
     "name": "stderr",
     "output_type": "stream",
     "text": [
      "Operator `Kernel` ran in 0.09 s\n"
     ]
    },
    {
     "name": "stdout",
     "output_type": "stream",
     "text": [
      "sample no. : 196 Time taken: 25.014754726551473\n"
     ]
    },
    {
     "name": "stderr",
     "output_type": "stream",
     "text": [
      "Operator `Kernel` ran in 0.09 s\n"
     ]
    },
    {
     "name": "stdout",
     "output_type": "stream",
     "text": [
      "sample no. : 197 Time taken: 25.139050029218197\n"
     ]
    },
    {
     "name": "stderr",
     "output_type": "stream",
     "text": [
      "Operator `Kernel` ran in 0.09 s\n"
     ]
    },
    {
     "name": "stdout",
     "output_type": "stream",
     "text": [
      "sample no. : 198 Time taken: 25.262888762168586\n"
     ]
    },
    {
     "name": "stderr",
     "output_type": "stream",
     "text": [
      "Operator `Kernel` ran in 0.09 s\n"
     ]
    },
    {
     "name": "stdout",
     "output_type": "stream",
     "text": [
      "sample no. : 199 Time taken: 25.386725222691894\n"
     ]
    },
    {
     "name": "stderr",
     "output_type": "stream",
     "text": [
      "Operator `Kernel` ran in 0.09 s\n"
     ]
    },
    {
     "name": "stdout",
     "output_type": "stream",
     "text": [
      "sample no. : 200 Time taken: 25.510741625912488\n"
     ]
    },
    {
     "name": "stderr",
     "output_type": "stream",
     "text": [
      "Equation is not affine w.r.t the target, falling back to standardsympy.solve that may be slow\n"
     ]
    },
    {
     "name": "stdout",
     "output_type": "stream",
     "text": [
      "this is s 64\n"
     ]
    },
    {
     "name": "stderr",
     "output_type": "stream",
     "text": [
      "Operator `Kernel` ran in 0.02 s\n",
      "Operator `Kernel` ran in 0.02 s\n",
      "Operator `Kernel` ran in 0.02 s\n",
      "Operator `Kernel` ran in 0.02 s\n",
      "Operator `Kernel` ran in 0.02 s\n",
      "Operator `Kernel` ran in 0.02 s\n",
      "Operator `Kernel` ran in 0.02 s\n"
     ]
    },
    {
     "name": "stdout",
     "output_type": "stream",
     "text": [
      "sample no. : 1 Time taken: 0.08045260608196259\n",
      "sample no. : 2 Time taken: 0.1176294106990099\n",
      "sample no. : 3 Time taken: 0.14786472637206316\n",
      "sample no. : 4 Time taken: 0.17798308562487364\n",
      "sample no. : 5 Time taken: 0.2111759101971984\n",
      "sample no. : 6 Time taken: 0.240380740724504\n",
      "sample no. : 7 Time taken: 0.27068107947707176\n"
     ]
    },
    {
     "name": "stderr",
     "output_type": "stream",
     "text": [
      "Operator `Kernel` ran in 0.02 s\n",
      "Operator `Kernel` ran in 0.02 s\n",
      "Operator `Kernel` ran in 0.02 s\n",
      "Operator `Kernel` ran in 0.02 s\n",
      "Operator `Kernel` ran in 0.02 s\n",
      "Operator `Kernel` ran in 0.02 s\n"
     ]
    },
    {
     "name": "stdout",
     "output_type": "stream",
     "text": [
      "sample no. : 8 Time taken: 0.30458238162100315\n",
      "sample no. : 9 Time taken: 0.3374581215903163\n",
      "sample no. : 10 Time taken: 0.37014931719750166\n",
      "sample no. : 11 Time taken: 0.4032414201647043\n",
      "sample no. : 12 Time taken: 0.4417242854833603\n",
      "sample no. : 13 Time taken: 0.47230860963463783\n"
     ]
    },
    {
     "name": "stderr",
     "output_type": "stream",
     "text": [
      "Operator `Kernel` ran in 0.02 s\n",
      "Operator `Kernel` ran in 0.02 s\n",
      "Operator `Kernel` ran in 0.02 s\n",
      "Operator `Kernel` ran in 0.02 s\n",
      "Operator `Kernel` ran in 0.02 s\n",
      "Operator `Kernel` ran in 0.02 s\n",
      "Operator `Kernel` ran in 0.02 s\n"
     ]
    },
    {
     "name": "stdout",
     "output_type": "stream",
     "text": [
      "sample no. : 14 Time taken: 0.51497548725456\n",
      "sample no. : 15 Time taken: 0.5479822466149926\n",
      "sample no. : 16 Time taken: 0.5796117670834064\n",
      "sample no. : 17 Time taken: 0.6100029060617089\n",
      "sample no. : 18 Time taken: 0.6406896943226457\n",
      "sample no. : 19 Time taken: 0.6713342173025012\n",
      "sample no. : 20 Time taken: 0.7020911080762744\n"
     ]
    },
    {
     "name": "stderr",
     "output_type": "stream",
     "text": [
      "Operator `Kernel` ran in 0.02 s\n",
      "Operator `Kernel` ran in 0.02 s\n",
      "Operator `Kernel` ran in 0.02 s\n",
      "Operator `Kernel` ran in 0.02 s\n",
      "Operator `Kernel` ran in 0.02 s\n",
      "Operator `Kernel` ran in 0.02 s\n"
     ]
    },
    {
     "name": "stdout",
     "output_type": "stream",
     "text": [
      "sample no. : 21 Time taken: 0.7363951299339533\n",
      "sample no. : 22 Time taken: 0.7705462649464607\n",
      "sample no. : 23 Time taken: 0.8052058201283216\n",
      "sample no. : 24 Time taken: 0.8368769604712725\n",
      "sample no. : 25 Time taken: 0.8700780998915434\n",
      "sample no. : 26 Time taken: 0.9267780091613531\n"
     ]
    },
    {
     "name": "stderr",
     "output_type": "stream",
     "text": [
      "Operator `Kernel` ran in 0.02 s\n",
      "Operator `Kernel` ran in 0.02 s\n",
      "Operator `Kernel` ran in 0.02 s\n",
      "Operator `Kernel` ran in 0.02 s\n",
      "Operator `Kernel` ran in 0.02 s\n",
      "Operator `Kernel` ran in 0.02 s\n",
      "Operator `Kernel` ran in 0.02 s\n"
     ]
    },
    {
     "name": "stdout",
     "output_type": "stream",
     "text": [
      "sample no. : 27 Time taken: 0.9657338112592697\n",
      "sample no. : 28 Time taken: 0.9999386556446552\n",
      "sample no. : 29 Time taken: 1.0316606499254704\n",
      "sample no. : 30 Time taken: 1.0641395933926105\n",
      "sample no. : 31 Time taken: 1.0966107938438654\n",
      "sample no. : 32 Time taken: 1.1280175354331732\n",
      "sample no. : 33 Time taken: 1.1576466849073768\n"
     ]
    },
    {
     "name": "stderr",
     "output_type": "stream",
     "text": [
      "Operator `Kernel` ran in 0.02 s\n",
      "Operator `Kernel` ran in 0.02 s\n",
      "Operator `Kernel` ran in 0.02 s\n",
      "Operator `Kernel` ran in 0.02 s\n",
      "Operator `Kernel` ran in 0.02 s\n",
      "Operator `Kernel` ran in 0.02 s\n",
      "Operator `Kernel` ran in 0.02 s\n"
     ]
    },
    {
     "name": "stdout",
     "output_type": "stream",
     "text": [
      "sample no. : 34 Time taken: 1.192766030319035\n",
      "sample no. : 35 Time taken: 1.2253452679142356\n",
      "sample no. : 36 Time taken: 1.2606436237692833\n",
      "sample no. : 37 Time taken: 1.2925009028986096\n",
      "sample no. : 38 Time taken: 1.322878441773355\n",
      "sample no. : 39 Time taken: 1.3560927947983146\n",
      "sample no. : 40 Time taken: 1.3869840744882822\n"
     ]
    },
    {
     "name": "stderr",
     "output_type": "stream",
     "text": [
      "Operator `Kernel` ran in 0.02 s\n",
      "Operator `Kernel` ran in 0.02 s\n",
      "Operator `Kernel` ran in 0.02 s\n",
      "Operator `Kernel` ran in 0.02 s\n",
      "Operator `Kernel` ran in 0.02 s\n",
      "Operator `Kernel` ran in 0.02 s\n",
      "Operator `Kernel` ran in 0.02 s\n"
     ]
    },
    {
     "name": "stdout",
     "output_type": "stream",
     "text": [
      "sample no. : 41 Time taken: 1.4236894873902202\n",
      "sample no. : 42 Time taken: 1.4553246721625328\n",
      "sample no. : 43 Time taken: 1.4906731909140944\n",
      "sample no. : 44 Time taken: 1.5240330351516604\n",
      "sample no. : 45 Time taken: 1.5556104453280568\n",
      "sample no. : 46 Time taken: 1.5871975272893906\n",
      "sample no. : 47 Time taken: 1.6178239742293954\n"
     ]
    },
    {
     "name": "stderr",
     "output_type": "stream",
     "text": [
      "Operator `Kernel` ran in 0.02 s\n",
      "Operator `Kernel` ran in 0.02 s\n",
      "Operator `Kernel` ran in 0.02 s\n",
      "Operator `Kernel` ran in 0.02 s\n",
      "Operator `Kernel` ran in 0.02 s\n",
      "Operator `Kernel` ran in 0.02 s\n"
     ]
    },
    {
     "name": "stdout",
     "output_type": "stream",
     "text": [
      "sample no. : 48 Time taken: 1.6572433318942785\n",
      "sample no. : 49 Time taken: 1.6904544020071626\n",
      "sample no. : 50 Time taken: 1.7262028316035867\n",
      "sample no. : 51 Time taken: 1.7776054628193378\n",
      "sample no. : 52 Time taken: 1.8216792987659574\n",
      "sample no. : 53 Time taken: 1.8547652233392\n"
     ]
    },
    {
     "name": "stderr",
     "output_type": "stream",
     "text": [
      "Operator `Kernel` ran in 0.02 s\n",
      "Operator `Kernel` ran in 0.02 s\n",
      "Operator `Kernel` ran in 0.02 s\n",
      "Operator `Kernel` ran in 0.02 s\n",
      "Operator `Kernel` ran in 0.02 s\n",
      "Operator `Kernel` ran in 0.02 s\n",
      "Operator `Kernel` ran in 0.02 s\n"
     ]
    },
    {
     "name": "stdout",
     "output_type": "stream",
     "text": [
      "sample no. : 54 Time taken: 1.89552282076329\n",
      "sample no. : 55 Time taken: 1.931199106387794\n",
      "sample no. : 56 Time taken: 1.966397874057293\n",
      "sample no. : 57 Time taken: 2.0011844439432025\n",
      "sample no. : 58 Time taken: 2.0326197193935513\n",
      "sample no. : 59 Time taken: 2.0640812227502465\n",
      "sample no. : 60 Time taken: 2.0943089462816715\n"
     ]
    },
    {
     "name": "stderr",
     "output_type": "stream",
     "text": [
      "Operator `Kernel` ran in 0.02 s\n",
      "Operator `Kernel` ran in 0.02 s\n",
      "Operator `Kernel` ran in 0.02 s\n",
      "Operator `Kernel` ran in 0.02 s\n",
      "Operator `Kernel` ran in 0.02 s\n",
      "Operator `Kernel` ran in 0.02 s\n",
      "Operator `Kernel` ran in 0.02 s\n"
     ]
    },
    {
     "name": "stdout",
     "output_type": "stream",
     "text": [
      "sample no. : 61 Time taken: 2.1297142850235105\n",
      "sample no. : 62 Time taken: 2.1687390189617872\n",
      "sample no. : 63 Time taken: 2.1997953867539763\n",
      "sample no. : 64 Time taken: 2.2338727014139295\n",
      "sample no. : 65 Time taken: 2.264977120794356\n",
      "sample no. : 66 Time taken: 2.2955333264544606\n",
      "sample no. : 67 Time taken: 2.327377773821354\n"
     ]
    },
    {
     "name": "stderr",
     "output_type": "stream",
     "text": [
      "Operator `Kernel` ran in 0.02 s\n",
      "Operator `Kernel` ran in 0.02 s\n",
      "Operator `Kernel` ran in 0.02 s\n",
      "Operator `Kernel` ran in 0.02 s\n",
      "Operator `Kernel` ran in 0.02 s\n",
      "Operator `Kernel` ran in 0.02 s\n",
      "Operator `Kernel` ran in 0.02 s\n"
     ]
    },
    {
     "name": "stdout",
     "output_type": "stream",
     "text": [
      "sample no. : 68 Time taken: 2.3624598560854793\n",
      "sample no. : 69 Time taken: 2.3951295716688037\n",
      "sample no. : 70 Time taken: 2.4338999800384045\n",
      "sample no. : 71 Time taken: 2.465000171214342\n",
      "sample no. : 72 Time taken: 2.49655625782907\n",
      "sample no. : 73 Time taken: 2.530132757499814\n",
      "sample no. : 74 Time taken: 2.5610701832920313\n"
     ]
    },
    {
     "name": "stderr",
     "output_type": "stream",
     "text": [
      "Operator `Kernel` ran in 0.02 s\n",
      "Operator `Kernel` ran in 0.02 s\n",
      "Operator `Kernel` ran in 0.02 s\n",
      "Operator `Kernel` ran in 0.02 s\n",
      "Operator `Kernel` ran in 0.02 s\n",
      "Operator `Kernel` ran in 0.02 s\n",
      "Operator `Kernel` ran in 0.02 s\n"
     ]
    },
    {
     "name": "stdout",
     "output_type": "stream",
     "text": [
      "sample no. : 75 Time taken: 2.6019336599856615\n",
      "sample no. : 76 Time taken: 2.6325451591983438\n",
      "sample no. : 77 Time taken: 2.6641199281439185\n",
      "sample no. : 78 Time taken: 2.6947918068617582\n",
      "sample no. : 79 Time taken: 2.725371837615967\n",
      "sample no. : 80 Time taken: 2.7568531343713403\n",
      "sample no. : 81 Time taken: 2.7950013801455498\n"
     ]
    },
    {
     "name": "stderr",
     "output_type": "stream",
     "text": [
      "Operator `Kernel` ran in 0.02 s\n",
      "Operator `Kernel` ran in 0.02 s\n",
      "Operator `Kernel` ran in 0.02 s\n",
      "Operator `Kernel` ran in 0.02 s\n",
      "Operator `Kernel` ran in 0.02 s\n",
      "Operator `Kernel` ran in 0.02 s\n",
      "Operator `Kernel` ran in 0.02 s\n"
     ]
    },
    {
     "name": "stdout",
     "output_type": "stream",
     "text": [
      "sample no. : 82 Time taken: 2.834396028891206\n",
      "sample no. : 83 Time taken: 2.8659165874123573\n",
      "sample no. : 84 Time taken: 2.8965201433748007\n",
      "sample no. : 85 Time taken: 2.926887351088226\n",
      "sample no. : 86 Time taken: 2.9639891609549522\n",
      "sample no. : 87 Time taken: 2.9953157594427466\n",
      "sample no. : 88 Time taken: 3.0263949558138847\n"
     ]
    },
    {
     "name": "stderr",
     "output_type": "stream",
     "text": [
      "Operator `Kernel` ran in 0.02 s\n",
      "Operator `Kernel` ran in 0.02 s\n",
      "Operator `Kernel` ran in 0.02 s\n",
      "Operator `Kernel` ran in 0.02 s\n",
      "Operator `Kernel` ran in 0.02 s\n",
      "Operator `Kernel` ran in 0.02 s\n",
      "Operator `Kernel` ran in 0.02 s\n"
     ]
    },
    {
     "name": "stdout",
     "output_type": "stream",
     "text": [
      "sample no. : 89 Time taken: 3.063515822403133\n",
      "sample no. : 90 Time taken: 3.095253422856331\n",
      "sample no. : 91 Time taken: 3.125881627202034\n",
      "sample no. : 92 Time taken: 3.1571611063554883\n",
      "sample no. : 93 Time taken: 3.189791664481163\n",
      "sample no. : 94 Time taken: 3.221288049593568\n",
      "sample no. : 95 Time taken: 3.2592949885874987\n"
     ]
    },
    {
     "name": "stderr",
     "output_type": "stream",
     "text": [
      "Operator `Kernel` ran in 0.02 s\n",
      "Operator `Kernel` ran in 0.02 s\n",
      "Operator `Kernel` ran in 0.02 s\n",
      "Operator `Kernel` ran in 0.02 s\n",
      "Operator `Kernel` ran in 0.02 s\n",
      "Operator `Kernel` ran in 0.02 s\n",
      "Operator `Kernel` ran in 0.02 s\n"
     ]
    },
    {
     "name": "stdout",
     "output_type": "stream",
     "text": [
      "sample no. : 96 Time taken: 3.300563263706863\n",
      "sample no. : 97 Time taken: 3.3332327818498015\n",
      "sample no. : 98 Time taken: 3.370017516426742\n",
      "sample no. : 99 Time taken: 3.39947500359267\n",
      "sample no. : 100 Time taken: 3.4337765937671065\n",
      "sample no. : 101 Time taken: 3.4651680942624807\n",
      "sample no. : 102 Time taken: 3.4950376031920314\n"
     ]
    },
    {
     "name": "stderr",
     "output_type": "stream",
     "text": [
      "Operator `Kernel` ran in 0.02 s\n",
      "Operator `Kernel` ran in 0.02 s\n",
      "Operator `Kernel` ran in 0.02 s\n",
      "Operator `Kernel` ran in 0.02 s\n",
      "Operator `Kernel` ran in 0.02 s\n",
      "Operator `Kernel` ran in 0.02 s\n",
      "Operator `Kernel` ran in 0.02 s\n"
     ]
    },
    {
     "name": "stdout",
     "output_type": "stream",
     "text": [
      "sample no. : 103 Time taken: 3.536875933408737\n",
      "sample no. : 104 Time taken: 3.5707707004621625\n",
      "sample no. : 105 Time taken: 3.604140255600214\n",
      "sample no. : 106 Time taken: 3.633287432603538\n",
      "sample no. : 107 Time taken: 3.66430876404047\n",
      "sample no. : 108 Time taken: 3.695163303054869\n",
      "sample no. : 109 Time taken: 3.725309577770531\n"
     ]
    },
    {
     "name": "stderr",
     "output_type": "stream",
     "text": [
      "Operator `Kernel` ran in 0.02 s\n",
      "Operator `Kernel` ran in 0.02 s\n",
      "Operator `Kernel` ran in 0.02 s\n",
      "Operator `Kernel` ran in 0.02 s\n",
      "Operator `Kernel` ran in 0.02 s\n",
      "Operator `Kernel` ran in 0.02 s\n",
      "Operator `Kernel` ran in 0.02 s\n"
     ]
    },
    {
     "name": "stdout",
     "output_type": "stream",
     "text": [
      "sample no. : 110 Time taken: 3.7594022108241916\n",
      "sample no. : 111 Time taken: 3.797534857876599\n",
      "sample no. : 112 Time taken: 3.8328414913266897\n",
      "sample no. : 113 Time taken: 3.8636176846921444\n",
      "sample no. : 114 Time taken: 3.894350526854396\n",
      "sample no. : 115 Time taken: 3.9252630257979035\n",
      "sample no. : 116 Time taken: 3.9602028131484985\n"
     ]
    },
    {
     "name": "stderr",
     "output_type": "stream",
     "text": [
      "Operator `Kernel` ran in 0.02 s\n",
      "Operator `Kernel` ran in 0.02 s\n",
      "Operator `Kernel` ran in 0.02 s\n",
      "Operator `Kernel` ran in 0.02 s\n",
      "Operator `Kernel` ran in 0.02 s\n",
      "Operator `Kernel` ran in 0.02 s\n",
      "Operator `Kernel` ran in 0.02 s\n"
     ]
    },
    {
     "name": "stdout",
     "output_type": "stream",
     "text": [
      "sample no. : 117 Time taken: 3.998566630296409\n",
      "sample no. : 118 Time taken: 4.027772640809417\n",
      "sample no. : 119 Time taken: 4.0606287978589535\n",
      "sample no. : 120 Time taken: 4.102445671334863\n",
      "sample no. : 121 Time taken: 4.133185022510588\n",
      "sample no. : 122 Time taken: 4.163973138667643\n",
      "sample no. : 123 Time taken: 4.195783062838018\n"
     ]
    },
    {
     "name": "stderr",
     "output_type": "stream",
     "text": [
      "Operator `Kernel` ran in 0.02 s\n",
      "Operator `Kernel` ran in 0.02 s\n",
      "Operator `Kernel` ran in 0.02 s\n",
      "Operator `Kernel` ran in 0.02 s\n",
      "Operator `Kernel` ran in 0.02 s\n",
      "Operator `Kernel` ran in 0.02 s\n",
      "Operator `Kernel` ran in 0.02 s\n"
     ]
    },
    {
     "name": "stdout",
     "output_type": "stream",
     "text": [
      "sample no. : 124 Time taken: 4.236081658862531\n",
      "sample no. : 125 Time taken: 4.266910123638809\n",
      "sample no. : 126 Time taken: 4.298164472915232\n",
      "sample no. : 127 Time taken: 4.333927660249174\n",
      "sample no. : 128 Time taken: 4.365043452009559\n",
      "sample no. : 129 Time taken: 4.395986524410546\n",
      "sample no. : 130 Time taken: 4.426519246771932\n"
     ]
    },
    {
     "name": "stderr",
     "output_type": "stream",
     "text": [
      "Operator `Kernel` ran in 0.02 s\n",
      "Operator `Kernel` ran in 0.02 s\n",
      "Operator `Kernel` ran in 0.02 s\n",
      "Operator `Kernel` ran in 0.02 s\n",
      "Operator `Kernel` ran in 0.02 s\n",
      "Operator `Kernel` ran in 0.02 s\n",
      "Operator `Kernel` ran in 0.02 s\n"
     ]
    },
    {
     "name": "stdout",
     "output_type": "stream",
     "text": [
      "sample no. : 131 Time taken: 4.463262342847884\n",
      "sample no. : 132 Time taken: 4.502305428497493\n",
      "sample no. : 133 Time taken: 4.53733282815665\n",
      "sample no. : 134 Time taken: 4.568675125017762\n",
      "sample no. : 135 Time taken: 4.5994588527828455\n",
      "sample no. : 136 Time taken: 4.64234306011349\n",
      "sample no. : 137 Time taken: 4.673293835483491\n"
     ]
    },
    {
     "name": "stderr",
     "output_type": "stream",
     "text": [
      "Operator `Kernel` ran in 0.02 s\n",
      "Operator `Kernel` ran in 0.02 s\n",
      "Operator `Kernel` ran in 0.02 s\n",
      "Operator `Kernel` ran in 0.02 s\n",
      "Operator `Kernel` ran in 0.02 s\n",
      "Operator `Kernel` ran in 0.02 s\n",
      "Operator `Kernel` ran in 0.02 s\n"
     ]
    },
    {
     "name": "stdout",
     "output_type": "stream",
     "text": [
      "sample no. : 138 Time taken: 4.7087855739519\n",
      "sample no. : 139 Time taken: 4.739379349164665\n",
      "sample no. : 140 Time taken: 4.77046063542366\n",
      "sample no. : 141 Time taken: 4.802192415110767\n",
      "sample no. : 142 Time taken: 4.832737352699041\n",
      "sample no. : 143 Time taken: 4.865801319479942\n",
      "sample no. : 144 Time taken: 4.901263702660799\n"
     ]
    },
    {
     "name": "stderr",
     "output_type": "stream",
     "text": [
      "Operator `Kernel` ran in 0.02 s\n",
      "Operator `Kernel` ran in 0.02 s\n",
      "Operator `Kernel` ran in 0.02 s\n",
      "Operator `Kernel` ran in 0.02 s\n",
      "Operator `Kernel` ran in 0.02 s\n",
      "Operator `Kernel` ran in 0.02 s\n",
      "Operator `Kernel` ran in 0.02 s\n"
     ]
    },
    {
     "name": "stdout",
     "output_type": "stream",
     "text": [
      "sample no. : 145 Time taken: 4.938585528172553\n",
      "sample no. : 146 Time taken: 4.970886157825589\n",
      "sample no. : 147 Time taken: 5.001379023306072\n",
      "sample no. : 148 Time taken: 5.032236183062196\n",
      "sample no. : 149 Time taken: 5.063749726861715\n",
      "sample no. : 150 Time taken: 5.09762461297214\n",
      "sample no. : 151 Time taken: 5.129664398729801\n"
     ]
    },
    {
     "name": "stderr",
     "output_type": "stream",
     "text": [
      "Operator `Kernel` ran in 0.02 s\n",
      "Operator `Kernel` ran in 0.02 s\n",
      "Operator `Kernel` ran in 0.02 s\n",
      "Operator `Kernel` ran in 0.02 s\n",
      "Operator `Kernel` ran in 0.02 s\n",
      "Operator `Kernel` ran in 0.02 s\n"
     ]
    },
    {
     "name": "stdout",
     "output_type": "stream",
     "text": [
      "sample no. : 152 Time taken: 5.170138535089791\n",
      "sample no. : 153 Time taken: 5.202546348795295\n",
      "sample no. : 154 Time taken: 5.236123859882355\n",
      "sample no. : 155 Time taken: 5.269281528890133\n",
      "sample no. : 156 Time taken: 5.302249796688557\n",
      "sample no. : 157 Time taken: 5.33777660690248\n"
     ]
    },
    {
     "name": "stderr",
     "output_type": "stream",
     "text": [
      "Operator `Kernel` ran in 0.02 s\n",
      "Operator `Kernel` ran in 0.02 s\n",
      "Operator `Kernel` ran in 0.02 s\n",
      "Operator `Kernel` ran in 0.02 s\n",
      "Operator `Kernel` ran in 0.02 s\n",
      "Operator `Kernel` ran in 0.02 s\n"
     ]
    },
    {
     "name": "stdout",
     "output_type": "stream",
     "text": [
      "sample no. : 158 Time taken: 5.374189159832895\n",
      "sample no. : 159 Time taken: 5.409091389738023\n",
      "sample no. : 160 Time taken: 5.442535120993853\n",
      "sample no. : 161 Time taken: 5.47701402567327\n",
      "sample no. : 162 Time taken: 5.511675771325827\n",
      "sample no. : 163 Time taken: 5.547991469502449\n"
     ]
    },
    {
     "name": "stderr",
     "output_type": "stream",
     "text": [
      "Operator `Kernel` ran in 0.02 s\n",
      "Operator `Kernel` ran in 0.02 s\n",
      "Operator `Kernel` ran in 0.02 s\n",
      "Operator `Kernel` ran in 0.02 s\n",
      "Operator `Kernel` ran in 0.02 s\n",
      "Operator `Kernel` ran in 0.02 s\n"
     ]
    },
    {
     "name": "stdout",
     "output_type": "stream",
     "text": [
      "sample no. : 164 Time taken: 5.584257694892585\n",
      "sample no. : 165 Time taken: 5.617564695887268\n",
      "sample no. : 166 Time taken: 5.650603977032006\n",
      "sample no. : 167 Time taken: 5.698629078455269\n",
      "sample no. : 168 Time taken: 5.73351295478642\n",
      "sample no. : 169 Time taken: 5.768998804502189\n"
     ]
    },
    {
     "name": "stderr",
     "output_type": "stream",
     "text": [
      "Operator `Kernel` ran in 0.02 s\n",
      "Operator `Kernel` ran in 0.02 s\n",
      "Operator `Kernel` ran in 0.02 s\n",
      "Operator `Kernel` ran in 0.02 s\n",
      "Operator `Kernel` ran in 0.02 s\n",
      "Operator `Kernel` ran in 0.04 s\n"
     ]
    },
    {
     "name": "stdout",
     "output_type": "stream",
     "text": [
      "sample no. : 170 Time taken: 5.804392848163843\n",
      "sample no. : 171 Time taken: 5.838075974956155\n",
      "sample no. : 172 Time taken: 5.876135230995715\n",
      "sample no. : 173 Time taken: 5.909842460416257\n",
      "sample no. : 174 Time taken: 5.944354437291622\n"
     ]
    },
    {
     "name": "stderr",
     "output_type": "stream",
     "text": [
      "Operator `Kernel` ran in 0.02 s\n",
      "Operator `Kernel` ran in 0.02 s\n",
      "Operator `Kernel` ran in 0.02 s\n",
      "Operator `Kernel` ran in 0.02 s\n",
      "Operator `Kernel` ran in 0.02 s\n"
     ]
    },
    {
     "name": "stdout",
     "output_type": "stream",
     "text": [
      "sample no. : 175 Time taken: 6.014154120348394\n",
      "sample no. : 176 Time taken: 6.047135633416474\n",
      "sample no. : 177 Time taken: 6.082049363292754\n",
      "sample no. : 178 Time taken: 6.113989671692252\n",
      "sample no. : 179 Time taken: 6.150001872330904\n",
      "sample no. : 180 Time taken: 6.184833996929228\n"
     ]
    },
    {
     "name": "stderr",
     "output_type": "stream",
     "text": [
      "Operator `Kernel` ran in 0.02 s\n",
      "Operator `Kernel` ran in 0.02 s\n",
      "Operator `Kernel` ran in 0.02 s\n",
      "Operator `Kernel` ran in 0.02 s\n",
      "Operator `Kernel` ran in 0.02 s\n",
      "Operator `Kernel` ran in 0.02 s\n",
      "Operator `Kernel` ran in 0.02 s\n"
     ]
    },
    {
     "name": "stdout",
     "output_type": "stream",
     "text": [
      "sample no. : 181 Time taken: 6.2211163099855185\n",
      "sample no. : 182 Time taken: 6.258174368180335\n",
      "sample no. : 183 Time taken: 6.290170380845666\n",
      "sample no. : 184 Time taken: 6.324164914898574\n",
      "sample no. : 185 Time taken: 6.35714312735945\n",
      "sample no. : 186 Time taken: 6.390649099834263\n",
      "sample no. : 187 Time taken: 6.421764826402068\n"
     ]
    },
    {
     "name": "stderr",
     "output_type": "stream",
     "text": [
      "Operator `Kernel` ran in 0.02 s\n",
      "Operator `Kernel` ran in 0.02 s\n",
      "Operator `Kernel` ran in 0.02 s\n",
      "Operator `Kernel` ran in 0.02 s\n",
      "Operator `Kernel` ran in 0.02 s\n",
      "Operator `Kernel` ran in 0.02 s\n",
      "Operator `Kernel` ran in 0.02 s\n"
     ]
    },
    {
     "name": "stdout",
     "output_type": "stream",
     "text": [
      "sample no. : 188 Time taken: 6.453635789453983\n",
      "sample no. : 189 Time taken: 6.48692726995796\n",
      "sample no. : 190 Time taken: 6.519029404968023\n",
      "sample no. : 191 Time taken: 6.552779438905418\n",
      "sample no. : 192 Time taken: 6.586091274395585\n",
      "sample no. : 193 Time taken: 6.621518775820732\n"
     ]
    },
    {
     "name": "stderr",
     "output_type": "stream",
     "text": [
      "Operator `Kernel` ran in 0.02 s\n",
      "Operator `Kernel` ran in 0.02 s\n",
      "Operator `Kernel` ran in 0.02 s\n",
      "Operator `Kernel` ran in 0.02 s\n",
      "Operator `Kernel` ran in 0.02 s\n",
      "Operator `Kernel` ran in 0.02 s\n"
     ]
    },
    {
     "name": "stdout",
     "output_type": "stream",
     "text": [
      "sample no. : 194 Time taken: 6.655564463697374\n",
      "sample no. : 195 Time taken: 6.69232617225498\n",
      "sample no. : 196 Time taken: 6.724692068062723\n",
      "sample no. : 197 Time taken: 6.755761465989053\n",
      "sample no. : 198 Time taken: 6.786722993478179\n",
      "sample no. : 199 Time taken: 6.8170746164396405\n",
      "sample no. : 200 Time taken: 6.850807716138661\n"
     ]
    }
   ],
   "source": [
    "# this is used to generate \"devito\" data results, to compare to the FNO results and the ground truth\n",
    "\n",
    "test_128 = scipy.io.loadmat('df_test_128.mat') \n",
    "test_64 = scipy.io.loadmat('df_test_64.mat') \n",
    "\n",
    "# for each test mat file:\n",
    "for testcase in [test_128, test_64]:\n",
    "   \n",
    "    # number of grid points on [0,1]^2 \n",
    "    s = testcase['coeff'].shape[1]\n",
    "    print(\"this is s\", s)\n",
    "    \n",
    "    # Number of solutions to generate\n",
    "    N = 200\n",
    "\n",
    "    # Forcing function, f(x) = 1 \n",
    "    f = np.ones((s, s))\n",
    "\n",
    "    # create s x s grid with spacing 1\n",
    "    grid = Grid(shape=(s, s), extent=(1.0,1.0))\n",
    "\n",
    "    # create function on grid\n",
    "    # space order of 2 to enable 2nd derivative\n",
    "    # TimeFunction for u can be used despite the lack of a time-dependence. This is done for psuedotime\n",
    "    u = TimeFunction(name='u', grid=grid, space_order=2)\n",
    "    a = Function(name='a', grid=grid, space_order=2)\n",
    "    f1 = Function(name='f1', grid=grid, space_order=2)\n",
    "\n",
    "    # define 2D Darcy flow equation\n",
    "    equation_u = Eq(-a*u.laplace,f1)\n",
    "\n",
    "    # Let SymPy solve for the central stencil point\n",
    "    stencil = solve(equation_u, u)\n",
    "\n",
    "    # Let our stencil populate the buffer `u.forward`\n",
    "    update = Eq(u.forward, stencil)\n",
    "\n",
    "    # Boundary Conds\n",
    "    x, y = grid.dimensions\n",
    "    t = grid.stepping_dim\n",
    "    nx = s\n",
    "    ny = s\n",
    "    bc = [Eq(u[t+1, 0, y],u[t+1, 1,y])]  # du/dx = 0 for x=0.\n",
    "    bc += [Eq(u[t+1,nx-1, y],u[t+1,nx-2, y])]  # du/dx = 0 for x=1.\n",
    "    bc += [Eq(u[t+1, x, 0],u[t+1,x ,1])]  # du/dx = 0 at y=0\n",
    "    bc += [Eq(u[t+1, x, ny-1],u[t+1, x, ny-2])]  # du/dx=0 for y=1\n",
    "    # u=0 for all sides\n",
    "    bc = [Eq(u[t+1, x, 0], 0.)]\n",
    "    bc += [Eq(u[t+1, x, ny-1], 0.)]\n",
    "    bc += [Eq(u[t+1, 0, y], 0.)]\n",
    "    bc += [Eq(u[t+1, nx-1, y], 0.)]\n",
    "\n",
    "    op = Operator([update] + bc)\n",
    "\n",
    "\n",
    "    # all the inputs\n",
    "    coeff = np.zeros(shape=(N, s, s))\n",
    "    #all the solutions\n",
    "    sol = torch.zeros(N, s, s)\n",
    "     \n",
    "    c = 0\n",
    "    t0 = default_timer()\n",
    "    \n",
    "    # for each input generate a new solution\n",
    "    for each_input in testcase['coeff']:\n",
    "        \n",
    "        w1 = each_input\n",
    "        \n",
    "        #Solve df\n",
    "        output = darcy_flow_2d(w1, f, s)\n",
    "        \n",
    "        coeff[c:(c+1),...] = w1\n",
    "        sol[c:(c+1),...] = output\n",
    "        \n",
    "        c += 1\n",
    "        t1 = default_timer()\n",
    "        print(\"sample no. :\", c, \"Time taken:\", t1-t0)\n",
    "    \n",
    "    scipy.io.savemat('df_devito_{}.mat'.format(s), mdict={'coeff': coeff, 'sol': sol.cpu().numpy()})"
   ]
  },
  {
   "cell_type": "code",
   "execution_count": null,
   "id": "8f0c7290-3f97-46b4-ac62-8a46ca441390",
   "metadata": {},
   "outputs": [],
   "source": []
  }
 ],
 "metadata": {
  "kernelspec": {
   "display_name": "Python 3 (ipykernel)",
   "language": "python",
   "name": "python3"
  },
  "language_info": {
   "codemirror_mode": {
    "name": "ipython",
    "version": 3
   },
   "file_extension": ".py",
   "mimetype": "text/x-python",
   "name": "python",
   "nbconvert_exporter": "python",
   "pygments_lexer": "ipython3",
   "version": "3.10.4"
  }
 },
 "nbformat": 4,
 "nbformat_minor": 5
}
